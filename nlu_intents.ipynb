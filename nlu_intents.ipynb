{
  "nbformat": 4,
  "nbformat_minor": 0,
  "metadata": {
    "colab": {
      "name": "nlu_intents.ipynb",
      "version": "0.3.2",
      "provenance": [],
      "collapsed_sections": [],
      "include_colab_link": true
    },
    "kernelspec": {
      "name": "python3",
      "display_name": "Python 3"
    }
  },
  "cells": [
    {
      "cell_type": "markdown",
      "metadata": {
        "id": "view-in-github",
        "colab_type": "text"
      },
      "source": [
        "<a href=\"https://colab.research.google.com/github/jish1398/Nlu_Intent/blob/master/nlu_intents.ipynb\" target=\"_parent\"><img src=\"https://colab.research.google.com/assets/colab-badge.svg\" alt=\"Open In Colab\"/></a>"
      ]
    },
    {
      "metadata": {
        "id": "1BO9hPJRJaxJ",
        "colab_type": "code",
        "colab": {
          "base_uri": "https://localhost:8080/",
          "height": 1227
        },
        "outputId": "9aa59c42-619d-43d9-9651-ba76ea0cce7e"
      },
      "cell_type": "code",
      "source": [
        "!apt-get -qq install -y graphviz libgraphviz-dev pkg-config && pip install pygraphviz;\n",
        "!pip install rasa_nlu[spacy];\n",
        "!python -m spacy download en;"
      ],
      "execution_count": 3,
      "outputs": [
        {
          "output_type": "stream",
          "text": [
            "Requirement already satisfied: pygraphviz in /usr/local/lib/python3.6/dist-packages (1.5)\n",
            "Requirement already satisfied: rasa_nlu[spacy] in /usr/local/lib/python3.6/dist-packages (0.13.7)\n",
            "Requirement already satisfied: tqdm in /usr/local/lib/python3.6/dist-packages (from rasa_nlu[spacy]) (4.28.1)\n",
            "Requirement already satisfied: simplejson in /usr/local/lib/python3.6/dist-packages (from rasa_nlu[spacy]) (3.16.0)\n",
            "Requirement already satisfied: pathlib in /usr/local/lib/python3.6/dist-packages (from rasa_nlu[spacy]) (1.0.1)\n",
            "Requirement already satisfied: coloredlogs in /usr/local/lib/python3.6/dist-packages (from rasa_nlu[spacy]) (10.0)\n",
            "Requirement already satisfied: packaging in /usr/local/lib/python3.6/dist-packages (from rasa_nlu[spacy]) (17.1)\n",
            "Requirement already satisfied: jsonschema in /usr/local/lib/python3.6/dist-packages (from rasa_nlu[spacy]) (2.6.0)\n",
            "Requirement already satisfied: gevent in /usr/local/lib/python3.6/dist-packages (from rasa_nlu[spacy]) (1.3.7)\n",
            "Requirement already satisfied: klein in /usr/local/lib/python3.6/dist-packages (from rasa_nlu[spacy]) (17.10.0)\n",
            "Requirement already satisfied: numpy>=1.13 in /usr/local/lib/python3.6/dist-packages (from rasa_nlu[spacy]) (1.14.6)\n",
            "Requirement already satisfied: cloudpickle in /usr/local/lib/python3.6/dist-packages (from rasa_nlu[spacy]) (0.6.1)\n",
            "Requirement already satisfied: matplotlib~=2.0 in /usr/local/lib/python3.6/dist-packages (from rasa_nlu[spacy]) (2.1.2)\n",
            "Requirement already satisfied: requests in /usr/local/lib/python3.6/dist-packages (from rasa_nlu[spacy]) (2.18.4)\n",
            "Requirement already satisfied: future in /usr/local/lib/python3.6/dist-packages (from rasa_nlu[spacy]) (0.16.0)\n",
            "Requirement already satisfied: boto3 in /usr/local/lib/python3.6/dist-packages (from rasa_nlu[spacy]) (1.9.33)\n",
            "Requirement already satisfied: six in /usr/local/lib/python3.6/dist-packages (from rasa_nlu[spacy]) (1.11.0)\n",
            "Requirement already satisfied: pyyaml in /usr/local/lib/python3.6/dist-packages (from rasa_nlu[spacy]) (3.13)\n",
            "Requirement already satisfied: typing in /usr/local/lib/python3.6/dist-packages (from rasa_nlu[spacy]) (3.6.6)\n",
            "Requirement already satisfied: spacy>2.0; extra == \"spacy\" in /usr/local/lib/python3.6/dist-packages (from rasa_nlu[spacy]) (2.0.16)\n",
            "Requirement already satisfied: scikit-learn<0.20; extra == \"spacy\" in /usr/local/lib/python3.6/dist-packages (from rasa_nlu[spacy]) (0.19.2)\n",
            "Requirement already satisfied: sklearn-crfsuite; extra == \"spacy\" in /usr/local/lib/python3.6/dist-packages (from rasa_nlu[spacy]) (0.3.6)\n",
            "Requirement already satisfied: scipy; extra == \"spacy\" in /usr/local/lib/python3.6/dist-packages (from rasa_nlu[spacy]) (0.19.1)\n",
            "Requirement already satisfied: humanfriendly>=4.7 in /usr/local/lib/python3.6/dist-packages (from coloredlogs->rasa_nlu[spacy]) (4.17)\n",
            "Requirement already satisfied: pyparsing>=2.0.2 in /usr/local/lib/python3.6/dist-packages (from packaging->rasa_nlu[spacy]) (2.2.2)\n",
            "Requirement already satisfied: greenlet>=0.4.14; platform_python_implementation == \"CPython\" in /usr/local/lib/python3.6/dist-packages (from gevent->rasa_nlu[spacy]) (0.4.15)\n",
            "Requirement already satisfied: incremental in /usr/local/lib/python3.6/dist-packages (from klein->rasa_nlu[spacy]) (17.5.0)\n",
            "Requirement already satisfied: Twisted>=15.5 in /usr/local/lib/python3.6/dist-packages (from klein->rasa_nlu[spacy]) (18.9.0)\n",
            "Requirement already satisfied: werkzeug in /usr/local/lib/python3.6/dist-packages (from klein->rasa_nlu[spacy]) (0.14.1)\n",
            "Requirement already satisfied: python-dateutil>=2.1 in /usr/local/lib/python3.6/dist-packages (from matplotlib~=2.0->rasa_nlu[spacy]) (2.7.5)\n",
            "Requirement already satisfied: cycler>=0.10 in /usr/local/lib/python3.6/dist-packages (from matplotlib~=2.0->rasa_nlu[spacy]) (0.10.0)\n",
            "Requirement already satisfied: pytz in /usr/local/lib/python3.6/dist-packages (from matplotlib~=2.0->rasa_nlu[spacy]) (2018.6)\n",
            "Requirement already satisfied: chardet<3.1.0,>=3.0.2 in /usr/local/lib/python3.6/dist-packages (from requests->rasa_nlu[spacy]) (3.0.4)\n",
            "Requirement already satisfied: certifi>=2017.4.17 in /usr/local/lib/python3.6/dist-packages (from requests->rasa_nlu[spacy]) (2018.10.15)\n",
            "Requirement already satisfied: idna<2.7,>=2.5 in /usr/local/lib/python3.6/dist-packages (from requests->rasa_nlu[spacy]) (2.6)\n",
            "Requirement already satisfied: urllib3<1.23,>=1.21.1 in /usr/local/lib/python3.6/dist-packages (from requests->rasa_nlu[spacy]) (1.22)\n",
            "Requirement already satisfied: jmespath<1.0.0,>=0.7.1 in /usr/local/lib/python3.6/dist-packages (from boto3->rasa_nlu[spacy]) (0.9.3)\n",
            "Requirement already satisfied: s3transfer<0.2.0,>=0.1.10 in /usr/local/lib/python3.6/dist-packages (from boto3->rasa_nlu[spacy]) (0.1.13)\n",
            "Requirement already satisfied: botocore<1.13.0,>=1.12.33 in /usr/local/lib/python3.6/dist-packages (from boto3->rasa_nlu[spacy]) (1.12.33)\n",
            "Requirement already satisfied: regex==2018.01.10 in /usr/local/lib/python3.6/dist-packages (from spacy>2.0; extra == \"spacy\"->rasa_nlu[spacy]) (2018.1.10)\n",
            "Requirement already satisfied: murmurhash<1.1.0,>=0.28.0 in /usr/local/lib/python3.6/dist-packages (from spacy>2.0; extra == \"spacy\"->rasa_nlu[spacy]) (1.0.1)\n",
            "Requirement already satisfied: plac<1.0.0,>=0.9.6 in /usr/local/lib/python3.6/dist-packages (from spacy>2.0; extra == \"spacy\"->rasa_nlu[spacy]) (0.9.6)\n",
            "Requirement already satisfied: dill<0.3,>=0.2 in /usr/local/lib/python3.6/dist-packages (from spacy>2.0; extra == \"spacy\"->rasa_nlu[spacy]) (0.2.8.2)\n",
            "Requirement already satisfied: ujson>=1.35 in /usr/local/lib/python3.6/dist-packages (from spacy>2.0; extra == \"spacy\"->rasa_nlu[spacy]) (1.35)\n",
            "Requirement already satisfied: thinc<6.13.0,>=6.12.0 in /usr/local/lib/python3.6/dist-packages (from spacy>2.0; extra == \"spacy\"->rasa_nlu[spacy]) (6.12.0)\n",
            "Requirement already satisfied: cymem<2.1.0,>=2.0.2 in /usr/local/lib/python3.6/dist-packages (from spacy>2.0; extra == \"spacy\"->rasa_nlu[spacy]) (2.0.2)\n",
            "Requirement already satisfied: msgpack-numpy<0.4.4 in /usr/local/lib/python3.6/dist-packages (from spacy>2.0; extra == \"spacy\"->rasa_nlu[spacy]) (0.4.3.2)\n",
            "Requirement already satisfied: preshed<2.1.0,>=2.0.1 in /usr/local/lib/python3.6/dist-packages (from spacy>2.0; extra == \"spacy\"->rasa_nlu[spacy]) (2.0.1)\n",
            "Requirement already satisfied: python-crfsuite>=0.8.3 in /usr/local/lib/python3.6/dist-packages (from sklearn-crfsuite; extra == \"spacy\"->rasa_nlu[spacy]) (0.9.6)\n",
            "Requirement already satisfied: tabulate in /usr/local/lib/python3.6/dist-packages (from sklearn-crfsuite; extra == \"spacy\"->rasa_nlu[spacy]) (0.8.2)\n",
            "Requirement already satisfied: Automat>=0.3.0 in /usr/local/lib/python3.6/dist-packages (from Twisted>=15.5->klein->rasa_nlu[spacy]) (0.7.0)\n",
            "Requirement already satisfied: zope.interface>=4.4.2 in /usr/local/lib/python3.6/dist-packages (from Twisted>=15.5->klein->rasa_nlu[spacy]) (4.6.0)\n",
            "Requirement already satisfied: constantly>=15.1 in /usr/local/lib/python3.6/dist-packages (from Twisted>=15.5->klein->rasa_nlu[spacy]) (15.1.0)\n",
            "Requirement already satisfied: PyHamcrest>=1.9.0 in /usr/local/lib/python3.6/dist-packages (from Twisted>=15.5->klein->rasa_nlu[spacy]) (1.9.0)\n",
            "Requirement already satisfied: attrs>=17.4.0 in /usr/local/lib/python3.6/dist-packages (from Twisted>=15.5->klein->rasa_nlu[spacy]) (18.2.0)\n",
            "Requirement already satisfied: hyperlink>=17.1.1 in /usr/local/lib/python3.6/dist-packages (from Twisted>=15.5->klein->rasa_nlu[spacy]) (18.0.0)\n",
            "Requirement already satisfied: docutils>=0.10 in /usr/local/lib/python3.6/dist-packages (from botocore<1.13.0,>=1.12.33->boto3->rasa_nlu[spacy]) (0.14)\n",
            "Requirement already satisfied: cytoolz<0.10,>=0.9.0 in /usr/local/lib/python3.6/dist-packages (from thinc<6.13.0,>=6.12.0->spacy>2.0; extra == \"spacy\"->rasa_nlu[spacy]) (0.9.0.1)\n",
            "Requirement already satisfied: wrapt<1.11.0,>=1.10.0 in /usr/local/lib/python3.6/dist-packages (from thinc<6.13.0,>=6.12.0->spacy>2.0; extra == \"spacy\"->rasa_nlu[spacy]) (1.10.11)\n",
            "Requirement already satisfied: msgpack<1.0.0,>=0.5.6 in /usr/local/lib/python3.6/dist-packages (from thinc<6.13.0,>=6.12.0->spacy>2.0; extra == \"spacy\"->rasa_nlu[spacy]) (0.5.6)\n",
            "Requirement already satisfied: setuptools in /usr/local/lib/python3.6/dist-packages (from zope.interface>=4.4.2->Twisted>=15.5->klein->rasa_nlu[spacy]) (40.5.0)\n",
            "Requirement already satisfied: toolz>=0.8.0 in /usr/local/lib/python3.6/dist-packages (from cytoolz<0.10,>=0.9.0->thinc<6.13.0,>=6.12.0->spacy>2.0; extra == \"spacy\"->rasa_nlu[spacy]) (0.9.0)\n",
            "Requirement already satisfied: en_core_web_sm==2.0.0 from https://github.com/explosion/spacy-models/releases/download/en_core_web_sm-2.0.0/en_core_web_sm-2.0.0.tar.gz#egg=en_core_web_sm==2.0.0 in /usr/local/lib/python3.6/dist-packages (2.0.0)\n",
            "\n",
            "\u001b[93m    Linking successful\u001b[0m\n",
            "    /usr/local/lib/python3.6/dist-packages/en_core_web_sm -->\n",
            "    /usr/local/lib/python3.6/dist-packages/spacy/data/en\n",
            "\n",
            "    You can now load the model via spacy.load('en')\n",
            "\n"
          ],
          "name": "stdout"
        }
      ]
    },
    {
      "metadata": {
        "id": "EUtPafyuWrlc",
        "colab_type": "code",
        "colab": {
          "base_uri": "https://localhost:8080/",
          "height": 34
        },
        "outputId": "af3abc8b-72ec-40c7-bd15-955e9931b197"
      },
      "cell_type": "code",
      "source": [
        "nlu_md = \"\"\"\n",
        "## intent:greet\n",
        "- hey\n",
        "- hello\n",
        "- hi\n",
        "- good morning\n",
        "- good evening\n",
        "- hey there\n",
        "\n",
        "## intent:restaurant_search\n",
        "- i'm looking for a place to eat\n",
        "- I want to grab lunch\n",
        "- I am searching for a dinner spot\n",
        "- i'm looking for a place in the [north](location) of town\n",
        "- show me [chinese](cuisine) restaurants\n",
        "- show me a [mexican](cuisine) place in the [centre](location)\n",
        "- i am looking for an [indian](cuisine) spot\n",
        "- search for restaurants\n",
        "- anywhere in the [west](location)\n",
        "- anywhere near [18328](location)\n",
        "- I am looking for [asian fusion](cuisine) food\n",
        "- I am looking a restaurant in [29432](location)\n",
        "\n",
        "## intent:thankyou\n",
        "- thanks!\n",
        "- thank you\n",
        "- thx\n",
        "- thanks very much\n",
        "\n",
        "\"\"\"\n",
        "%store nlu_md > nlu.md"
      ],
      "execution_count": 10,
      "outputs": [
        {
          "output_type": "stream",
          "text": [
            "Writing 'nlu_md' (str) to file 'nlu.md'.\n"
          ],
          "name": "stdout"
        }
      ]
    },
    {
      "metadata": {
        "id": "D6zRfbTKX7uo",
        "colab_type": "code",
        "colab": {
          "base_uri": "https://localhost:8080/",
          "height": 34
        },
        "outputId": "21a0896d-2d18-4e63-c59b-dca1c1ae3f04"
      },
      "cell_type": "code",
      "source": [
        "nlu_config = \"\"\"\n",
        "language: en\n",
        "pipeline: \n",
        "- name: \"intent_featurizer_count_vectors\"\n",
        "- name: \"intent_classifier_tensorflow_embedding\"\n",
        "  intent_tokenization_flag: true\n",
        "  intent_split_symbol: \"+\"\n",
        "\"\"\"\n",
        "%store nlu_config > nlu_config.yml\n"
      ],
      "execution_count": 11,
      "outputs": [
        {
          "output_type": "stream",
          "text": [
            "Writing 'nlu_config' (str) to file 'nlu_config.yml'.\n"
          ],
          "name": "stdout"
        }
      ]
    },
    {
      "metadata": {
        "id": "rl_dCP2XZidy",
        "colab_type": "code",
        "colab": {
          "base_uri": "https://localhost:8080/",
          "height": 326
        },
        "outputId": "f9297b00-8e00-4138-91fc-bb563904e83f"
      },
      "cell_type": "code",
      "source": [
        "!python -m rasa_nlu.train -c nlu_config.yml --data nlu.md -o models --fixed_model_name nlu --project current --verbose"
      ],
      "execution_count": 12,
      "outputs": [
        {
          "output_type": "stream",
          "text": [
            "2018-10-30 09:57:27 \u001b[1;30mINFO    \u001b[0m \u001b[34mrasa_nlu.training_data.loading\u001b[0m  - Training data format of nlu.md is md\n",
            "2018-10-30 09:57:27 \u001b[1;30mINFO    \u001b[0m \u001b[34mrasa_nlu.training_data.training_data\u001b[0m  - Training data stats: \n",
            "\t- intent examples: 22 (3 distinct intents)\n",
            "\t- Found intents: 'greet', 'thankyou', 'restaurant_search'\n",
            "\t- entity examples: 8 (2 distinct entities)\n",
            "\t- found entities: 'location', 'cuisine'\n",
            "\n",
            "2018-10-30 09:57:27 \u001b[1;30mINFO    \u001b[0m \u001b[34mrasa_nlu.model\u001b[0m  - Starting to train component intent_featurizer_count_vectors\n",
            "2018-10-30 09:57:28 \u001b[1;30mINFO    \u001b[0m \u001b[34mrasa_nlu.model\u001b[0m  - Finished training component.\n",
            "2018-10-30 09:57:28 \u001b[1;30mINFO    \u001b[0m \u001b[34mrasa_nlu.model\u001b[0m  - Starting to train component intent_classifier_tensorflow_embedding\n",
            "2018-10-30 09:57:32.195966: I tensorflow/core/platform/cpu_feature_guard.cc:141] Your CPU supports instructions that this TensorFlow binary was not compiled to use: AVX2 FMA\n",
            "2018-10-30 09:57:32 \u001b[1;30mINFO    \u001b[0m \u001b[34mrasa_nlu.classifiers.embedding_intent_classifier\u001b[0m  - Accuracy is updated every 10 epochs\n",
            "Epochs: 100% 300/300 [00:01<00:00, 277.19it/s, loss=0.081, acc=1.000]\n",
            "2018-10-30 09:57:33 \u001b[1;30mINFO    \u001b[0m \u001b[34mrasa_nlu.classifiers.embedding_intent_classifier\u001b[0m  - Finished training embedding policy, loss=0.081, train accuracy=1.000\n",
            "2018-10-30 09:57:33 \u001b[1;30mINFO    \u001b[0m \u001b[34mrasa_nlu.model\u001b[0m  - Finished training component.\n",
            "2018-10-30 09:57:33 \u001b[1;30mINFO    \u001b[0m \u001b[34mrasa_nlu.model\u001b[0m  - Successfully saved model into '/content/models/current/nlu'\n",
            "2018-10-30 09:57:33 \u001b[1;30mINFO    \u001b[0m \u001b[34m__main__\u001b[0m  - Finished training\n"
          ],
          "name": "stdout"
        }
      ]
    },
    {
      "metadata": {
        "id": "yCKyK2v4Zrq-",
        "colab_type": "code",
        "colab": {
          "base_uri": "https://localhost:8080/",
          "height": 408
        },
        "outputId": "19329257-98d3-4aad-d612-daaaf764f738"
      },
      "cell_type": "code",
      "source": [
        "from rasa_nlu.model import Interpreter\n",
        "import json\n",
        "interpreter = Interpreter.load(\"./models/current/nlu\")\n",
        "message = \"let's see some italian restaurants\"\n",
        "result = interpreter.parse(message)\n",
        "print(json.dumps(result, indent=2))"
      ],
      "execution_count": 13,
      "outputs": [
        {
          "output_type": "stream",
          "text": [
            "INFO:tensorflow:Restoring parameters from ./models/current/nlu/intent_classifier_tensorflow_embedding.ckpt\n"
          ],
          "name": "stderr"
        },
        {
          "output_type": "stream",
          "text": [
            "{\n",
            "  \"intent\": {\n",
            "    \"name\": \"restaurant_search\",\n",
            "    \"confidence\": 0.830917239189148\n",
            "  },\n",
            "  \"entities\": [],\n",
            "  \"intent_ranking\": [\n",
            "    {\n",
            "      \"name\": \"restaurant_search\",\n",
            "      \"confidence\": 0.830917239189148\n",
            "    },\n",
            "    {\n",
            "      \"name\": \"thankyou\",\n",
            "      \"confidence\": 0.2644999623298645\n",
            "    },\n",
            "    {\n",
            "      \"name\": \"greet\",\n",
            "      \"confidence\": 0.1818365901708603\n",
            "    }\n",
            "  ],\n",
            "  \"text\": \"let's see some italian restaurants\"\n",
            "}\n"
          ],
          "name": "stdout"
        }
      ]
    }
  ]
}