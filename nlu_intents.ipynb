{
  "nbformat": 4,
  "nbformat_minor": 0,
  "metadata": {
    "colab": {
      "name": "nlu_intents.ipynb",
      "version": "0.3.2",
      "provenance": [],
      "collapsed_sections": [],
      "include_colab_link": true
    },
    "kernelspec": {
      "name": "python3",
      "display_name": "Python 3"
    }
  },
  "cells": [
    {
      "cell_type": "markdown",
      "metadata": {
        "id": "view-in-github",
        "colab_type": "text"
      },
      "source": [
        "<a href=\"https://colab.research.google.com/github/jish1398/Nlu_Intent/blob/master/nlu_intents.ipynb\" target=\"_parent\"><img src=\"https://colab.research.google.com/assets/colab-badge.svg\" alt=\"Open In Colab\"/></a>"
      ]
    },
    {
      "metadata": {
        "id": "1BO9hPJRJaxJ",
        "colab_type": "code",
        "outputId": "0732b4a8-1b48-45f4-93a2-825e8403b184",
        "colab": {
          "base_uri": "https://localhost:8080/",
          "height": 2077
        }
      },
      "cell_type": "code",
      "source": [
        "!apt-get -qq install -y graphviz libgraphviz-dev pkg-config && pip install pygraphviz;\n",
        "!pip install rasa_nlu[tensorflow];\n",
        "!python -m spacy download en;\n",
        "!pip install git+https://github.com/mit-nlp/MITIE.git\n",
        "!pip install rasa_nlu[mitie]"
      ],
      "execution_count": 0,
      "outputs": [
        {
          "output_type": "stream",
          "text": [
            "Requirement already satisfied: pygraphviz in /usr/local/lib/python3.6/dist-packages (1.5)\n",
            "Requirement already satisfied: rasa_nlu[tensorflow] in /usr/local/lib/python3.6/dist-packages (0.13.7)\n",
            "Requirement already satisfied: pathlib in /usr/local/lib/python3.6/dist-packages (from rasa_nlu[tensorflow]) (1.0.1)\n",
            "Requirement already satisfied: tqdm in /usr/local/lib/python3.6/dist-packages (from rasa_nlu[tensorflow]) (4.28.1)\n",
            "Requirement already satisfied: cloudpickle in /usr/local/lib/python3.6/dist-packages (from rasa_nlu[tensorflow]) (0.6.1)\n",
            "Requirement already satisfied: coloredlogs in /usr/local/lib/python3.6/dist-packages (from rasa_nlu[tensorflow]) (10.0)\n",
            "Requirement already satisfied: klein in /usr/local/lib/python3.6/dist-packages (from rasa_nlu[tensorflow]) (17.10.0)\n",
            "Requirement already satisfied: requests in /usr/local/lib/python3.6/dist-packages (from rasa_nlu[tensorflow]) (2.18.4)\n",
            "Requirement already satisfied: numpy>=1.13 in /usr/local/lib/python3.6/dist-packages (from rasa_nlu[tensorflow]) (1.14.6)\n",
            "Requirement already satisfied: typing in /usr/local/lib/python3.6/dist-packages (from rasa_nlu[tensorflow]) (3.6.6)\n",
            "Requirement already satisfied: packaging in /usr/local/lib/python3.6/dist-packages (from rasa_nlu[tensorflow]) (18.0)\n",
            "Requirement already satisfied: simplejson in /usr/local/lib/python3.6/dist-packages (from rasa_nlu[tensorflow]) (3.16.0)\n",
            "Requirement already satisfied: pyyaml in /usr/local/lib/python3.6/dist-packages (from rasa_nlu[tensorflow]) (3.13)\n",
            "Requirement already satisfied: jsonschema in /usr/local/lib/python3.6/dist-packages (from rasa_nlu[tensorflow]) (2.6.0)\n",
            "Requirement already satisfied: future in /usr/local/lib/python3.6/dist-packages (from rasa_nlu[tensorflow]) (0.16.0)\n",
            "Requirement already satisfied: gevent in /usr/local/lib/python3.6/dist-packages (from rasa_nlu[tensorflow]) (1.3.7)\n",
            "Requirement already satisfied: matplotlib~=2.0 in /usr/local/lib/python3.6/dist-packages (from rasa_nlu[tensorflow]) (2.1.2)\n",
            "Requirement already satisfied: six in /usr/local/lib/python3.6/dist-packages (from rasa_nlu[tensorflow]) (1.11.0)\n",
            "Requirement already satisfied: boto3 in /usr/local/lib/python3.6/dist-packages (from rasa_nlu[tensorflow]) (1.9.34)\n",
            "Requirement already satisfied: scikit-learn<0.20; extra == \"tensorflow\" in /usr/local/lib/python3.6/dist-packages (from rasa_nlu[tensorflow]) (0.19.2)\n",
            "Requirement already satisfied: scipy; extra == \"tensorflow\" in /usr/local/lib/python3.6/dist-packages (from rasa_nlu[tensorflow]) (0.19.1)\n",
            "Requirement already satisfied: tensorflow; extra == \"tensorflow\" in /usr/local/lib/python3.6/dist-packages (from rasa_nlu[tensorflow]) (1.12.0rc2)\n",
            "Requirement already satisfied: sklearn-crfsuite; extra == \"tensorflow\" in /usr/local/lib/python3.6/dist-packages (from rasa_nlu[tensorflow]) (0.3.6)\n",
            "Requirement already satisfied: humanfriendly>=4.7 in /usr/local/lib/python3.6/dist-packages (from coloredlogs->rasa_nlu[tensorflow]) (4.17)\n",
            "Requirement already satisfied: werkzeug in /usr/local/lib/python3.6/dist-packages (from klein->rasa_nlu[tensorflow]) (0.14.1)\n",
            "Requirement already satisfied: Twisted>=15.5 in /usr/local/lib/python3.6/dist-packages (from klein->rasa_nlu[tensorflow]) (18.9.0)\n",
            "Requirement already satisfied: incremental in /usr/local/lib/python3.6/dist-packages (from klein->rasa_nlu[tensorflow]) (17.5.0)\n",
            "Requirement already satisfied: certifi>=2017.4.17 in /usr/local/lib/python3.6/dist-packages (from requests->rasa_nlu[tensorflow]) (2018.10.15)\n",
            "Requirement already satisfied: urllib3<1.23,>=1.21.1 in /usr/local/lib/python3.6/dist-packages (from requests->rasa_nlu[tensorflow]) (1.22)\n",
            "Requirement already satisfied: chardet<3.1.0,>=3.0.2 in /usr/local/lib/python3.6/dist-packages (from requests->rasa_nlu[tensorflow]) (3.0.4)\n",
            "Requirement already satisfied: idna<2.7,>=2.5 in /usr/local/lib/python3.6/dist-packages (from requests->rasa_nlu[tensorflow]) (2.6)\n",
            "Requirement already satisfied: pyparsing>=2.0.2 in /usr/local/lib/python3.6/dist-packages (from packaging->rasa_nlu[tensorflow]) (2.2.2)\n",
            "Requirement already satisfied: greenlet>=0.4.14; platform_python_implementation == \"CPython\" in /usr/local/lib/python3.6/dist-packages (from gevent->rasa_nlu[tensorflow]) (0.4.15)\n",
            "Requirement already satisfied: cycler>=0.10 in /usr/local/lib/python3.6/dist-packages (from matplotlib~=2.0->rasa_nlu[tensorflow]) (0.10.0)\n",
            "Requirement already satisfied: pytz in /usr/local/lib/python3.6/dist-packages (from matplotlib~=2.0->rasa_nlu[tensorflow]) (2018.7)\n",
            "Requirement already satisfied: python-dateutil>=2.1 in /usr/local/lib/python3.6/dist-packages (from matplotlib~=2.0->rasa_nlu[tensorflow]) (2.5.3)\n",
            "Requirement already satisfied: jmespath<1.0.0,>=0.7.1 in /usr/local/lib/python3.6/dist-packages (from boto3->rasa_nlu[tensorflow]) (0.9.3)\n",
            "Requirement already satisfied: s3transfer<0.2.0,>=0.1.10 in /usr/local/lib/python3.6/dist-packages (from boto3->rasa_nlu[tensorflow]) (0.1.13)\n",
            "Requirement already satisfied: botocore<1.13.0,>=1.12.34 in /usr/local/lib/python3.6/dist-packages (from boto3->rasa_nlu[tensorflow]) (1.12.34)\n",
            "Requirement already satisfied: wheel>=0.26 in /usr/local/lib/python3.6/dist-packages (from tensorflow; extra == \"tensorflow\"->rasa_nlu[tensorflow]) (0.32.2)\n",
            "Requirement already satisfied: protobuf>=3.6.1 in /usr/local/lib/python3.6/dist-packages (from tensorflow; extra == \"tensorflow\"->rasa_nlu[tensorflow]) (3.6.1)\n",
            "Requirement already satisfied: keras-preprocessing>=1.0.5 in /usr/local/lib/python3.6/dist-packages (from tensorflow; extra == \"tensorflow\"->rasa_nlu[tensorflow]) (1.0.5)\n",
            "Requirement already satisfied: termcolor>=1.1.0 in /usr/local/lib/python3.6/dist-packages (from tensorflow; extra == \"tensorflow\"->rasa_nlu[tensorflow]) (1.1.0)\n",
            "Requirement already satisfied: astor>=0.6.0 in /usr/local/lib/python3.6/dist-packages (from tensorflow; extra == \"tensorflow\"->rasa_nlu[tensorflow]) (0.7.1)\n",
            "Requirement already satisfied: absl-py>=0.1.6 in /usr/local/lib/python3.6/dist-packages (from tensorflow; extra == \"tensorflow\"->rasa_nlu[tensorflow]) (0.6.1)\n",
            "Requirement already satisfied: grpcio>=1.8.6 in /usr/local/lib/python3.6/dist-packages (from tensorflow; extra == \"tensorflow\"->rasa_nlu[tensorflow]) (1.15.0)\n",
            "Requirement already satisfied: gast>=0.2.0 in /usr/local/lib/python3.6/dist-packages (from tensorflow; extra == \"tensorflow\"->rasa_nlu[tensorflow]) (0.2.0)\n",
            "Requirement already satisfied: tensorboard<1.13.0,>=1.12.0 in /usr/local/lib/python3.6/dist-packages (from tensorflow; extra == \"tensorflow\"->rasa_nlu[tensorflow]) (1.12.0)\n",
            "Requirement already satisfied: keras-applications>=1.0.6 in /usr/local/lib/python3.6/dist-packages (from tensorflow; extra == \"tensorflow\"->rasa_nlu[tensorflow]) (1.0.6)\n",
            "Requirement already satisfied: tabulate in /usr/local/lib/python3.6/dist-packages (from sklearn-crfsuite; extra == \"tensorflow\"->rasa_nlu[tensorflow]) (0.8.2)\n",
            "Requirement already satisfied: python-crfsuite>=0.8.3 in /usr/local/lib/python3.6/dist-packages (from sklearn-crfsuite; extra == \"tensorflow\"->rasa_nlu[tensorflow]) (0.9.6)\n",
            "Requirement already satisfied: zope.interface>=4.4.2 in /usr/local/lib/python3.6/dist-packages (from Twisted>=15.5->klein->rasa_nlu[tensorflow]) (4.6.0)\n",
            "Requirement already satisfied: hyperlink>=17.1.1 in /usr/local/lib/python3.6/dist-packages (from Twisted>=15.5->klein->rasa_nlu[tensorflow]) (18.0.0)\n",
            "Requirement already satisfied: PyHamcrest>=1.9.0 in /usr/local/lib/python3.6/dist-packages (from Twisted>=15.5->klein->rasa_nlu[tensorflow]) (1.9.0)\n",
            "Requirement already satisfied: constantly>=15.1 in /usr/local/lib/python3.6/dist-packages (from Twisted>=15.5->klein->rasa_nlu[tensorflow]) (15.1.0)\n",
            "Requirement already satisfied: attrs>=17.4.0 in /usr/local/lib/python3.6/dist-packages (from Twisted>=15.5->klein->rasa_nlu[tensorflow]) (18.2.0)\n",
            "Requirement already satisfied: Automat>=0.3.0 in /usr/local/lib/python3.6/dist-packages (from Twisted>=15.5->klein->rasa_nlu[tensorflow]) (0.7.0)\n",
            "Requirement already satisfied: docutils>=0.10 in /usr/local/lib/python3.6/dist-packages (from botocore<1.13.0,>=1.12.34->boto3->rasa_nlu[tensorflow]) (0.14)\n",
            "Requirement already satisfied: setuptools in /usr/local/lib/python3.6/dist-packages (from protobuf>=3.6.1->tensorflow; extra == \"tensorflow\"->rasa_nlu[tensorflow]) (40.5.0)\n",
            "Requirement already satisfied: markdown>=2.6.8 in /usr/local/lib/python3.6/dist-packages (from tensorboard<1.13.0,>=1.12.0->tensorflow; extra == \"tensorflow\"->rasa_nlu[tensorflow]) (3.0.1)\n",
            "Requirement already satisfied: h5py in /usr/local/lib/python3.6/dist-packages (from keras-applications>=1.0.6->tensorflow; extra == \"tensorflow\"->rasa_nlu[tensorflow]) (2.8.0)\n",
            "Requirement already satisfied: en_core_web_sm==2.0.0 from https://github.com/explosion/spacy-models/releases/download/en_core_web_sm-2.0.0/en_core_web_sm-2.0.0.tar.gz#egg=en_core_web_sm==2.0.0 in /usr/local/lib/python3.6/dist-packages (2.0.0)\n",
            "\n",
            "\u001b[93m    Linking successful\u001b[0m\n",
            "    /usr/local/lib/python3.6/dist-packages/en_core_web_sm -->\n",
            "    /usr/local/lib/python3.6/dist-packages/spacy/data/en\n",
            "\n",
            "    You can now load the model via spacy.load('en')\n",
            "\n",
            "Collecting git+https://github.com/mit-nlp/MITIE.git\n",
            "  Cloning https://github.com/mit-nlp/MITIE.git to /tmp/pip-req-build-mx4s5vwo\n",
            "Building wheels for collected packages: mitie\n",
            "  Running setup.py bdist_wheel for mitie ... \u001b[?25l-\b \b\\\b \b|\b \b/\b \b-\b \b\\\b \b|\b \b/\b \b-\b \b\\\b \b|\b \b/\b \b-\b \b\\\b \b|\b \b/\b \b-\b \b\\\b \b|\b \b/\b \b-\b \b\\\b \b|\b \b/\b \b-\b \b\\\b \b|\b \b/\b \b-\b \b\\\b \b|\b \b/\b \b-\b \b\\\b \b|\b \b/\b \b-\b \b\\\b \b|\b \b/\b \b-\b \b\\\b \b|\b \b/\b \b-\b \b\\\b \b|\b \b/\b \b-\b \b\\\b \b|\b \b/\b \b-\b \b\\\b \b|\b \b/\b \b-\b \b\\\b \b|\b \b/\b \b-\b \b\\\b \b|\b \b/\b \b-\b \b\\\b \b|\b \b/\b \b-\b \b\\\b \b|\b \b/\b \b-\b \b\\\b \b|\b \b/\b \b-\b \b\\\b \b|\b \b/\b \b-\b \b\\\b \b|\b \b/\b \b-\b \b\\\b \bdone\n",
            "\u001b[?25h  Stored in directory: /tmp/pip-ephem-wheel-cache-mlvoqi0l/wheels/b4/c1/21/8e7e7e14cf3211bf5c73aad0b1d76d1186fbf681f4b9ef6c06\n",
            "Successfully built mitie\n",
            "Installing collected packages: mitie\n",
            "Successfully installed mitie-0.5.0\n",
            "Requirement already satisfied: rasa_nlu[mitie] in /usr/local/lib/python3.6/dist-packages (0.13.7)\n",
            "Requirement already satisfied: pyyaml in /usr/local/lib/python3.6/dist-packages (from rasa_nlu[mitie]) (3.13)\n",
            "Requirement already satisfied: gevent in /usr/local/lib/python3.6/dist-packages (from rasa_nlu[mitie]) (1.3.7)\n",
            "Requirement already satisfied: pathlib in /usr/local/lib/python3.6/dist-packages (from rasa_nlu[mitie]) (1.0.1)\n",
            "Requirement already satisfied: jsonschema in /usr/local/lib/python3.6/dist-packages (from rasa_nlu[mitie]) (2.6.0)\n",
            "Requirement already satisfied: packaging in /usr/local/lib/python3.6/dist-packages (from rasa_nlu[mitie]) (18.0)\n",
            "Requirement already satisfied: klein in /usr/local/lib/python3.6/dist-packages (from rasa_nlu[mitie]) (17.10.0)\n",
            "Requirement already satisfied: requests in /usr/local/lib/python3.6/dist-packages (from rasa_nlu[mitie]) (2.18.4)\n",
            "Requirement already satisfied: numpy>=1.13 in /usr/local/lib/python3.6/dist-packages (from rasa_nlu[mitie]) (1.14.6)\n",
            "Requirement already satisfied: coloredlogs in /usr/local/lib/python3.6/dist-packages (from rasa_nlu[mitie]) (10.0)\n",
            "Requirement already satisfied: matplotlib~=2.0 in /usr/local/lib/python3.6/dist-packages (from rasa_nlu[mitie]) (2.1.2)\n",
            "Requirement already satisfied: tqdm in /usr/local/lib/python3.6/dist-packages (from rasa_nlu[mitie]) (4.28.1)\n",
            "Requirement already satisfied: typing in /usr/local/lib/python3.6/dist-packages (from rasa_nlu[mitie]) (3.6.6)\n",
            "Requirement already satisfied: cloudpickle in /usr/local/lib/python3.6/dist-packages (from rasa_nlu[mitie]) (0.6.1)\n",
            "Requirement already satisfied: simplejson in /usr/local/lib/python3.6/dist-packages (from rasa_nlu[mitie]) (3.16.0)\n",
            "Requirement already satisfied: boto3 in /usr/local/lib/python3.6/dist-packages (from rasa_nlu[mitie]) (1.9.34)\n",
            "Requirement already satisfied: six in /usr/local/lib/python3.6/dist-packages (from rasa_nlu[mitie]) (1.11.0)\n",
            "Requirement already satisfied: future in /usr/local/lib/python3.6/dist-packages (from rasa_nlu[mitie]) (0.16.0)\n",
            "Requirement already satisfied: mitie; extra == \"mitie\" in /usr/local/lib/python3.6/dist-packages (from rasa_nlu[mitie]) (0.5.0)\n",
            "Requirement already satisfied: greenlet>=0.4.14; platform_python_implementation == \"CPython\" in /usr/local/lib/python3.6/dist-packages (from gevent->rasa_nlu[mitie]) (0.4.15)\n",
            "Requirement already satisfied: pyparsing>=2.0.2 in /usr/local/lib/python3.6/dist-packages (from packaging->rasa_nlu[mitie]) (2.2.2)\n",
            "Requirement already satisfied: werkzeug in /usr/local/lib/python3.6/dist-packages (from klein->rasa_nlu[mitie]) (0.14.1)\n",
            "Requirement already satisfied: incremental in /usr/local/lib/python3.6/dist-packages (from klein->rasa_nlu[mitie]) (17.5.0)\n",
            "Requirement already satisfied: Twisted>=15.5 in /usr/local/lib/python3.6/dist-packages (from klein->rasa_nlu[mitie]) (18.9.0)\n",
            "Requirement already satisfied: urllib3<1.23,>=1.21.1 in /usr/local/lib/python3.6/dist-packages (from requests->rasa_nlu[mitie]) (1.22)\n",
            "Requirement already satisfied: chardet<3.1.0,>=3.0.2 in /usr/local/lib/python3.6/dist-packages (from requests->rasa_nlu[mitie]) (3.0.4)\n",
            "Requirement already satisfied: idna<2.7,>=2.5 in /usr/local/lib/python3.6/dist-packages (from requests->rasa_nlu[mitie]) (2.6)\n",
            "Requirement already satisfied: certifi>=2017.4.17 in /usr/local/lib/python3.6/dist-packages (from requests->rasa_nlu[mitie]) (2018.10.15)\n",
            "Requirement already satisfied: humanfriendly>=4.7 in /usr/local/lib/python3.6/dist-packages (from coloredlogs->rasa_nlu[mitie]) (4.17)\n",
            "Requirement already satisfied: python-dateutil>=2.1 in /usr/local/lib/python3.6/dist-packages (from matplotlib~=2.0->rasa_nlu[mitie]) (2.5.3)\n",
            "Requirement already satisfied: pytz in /usr/local/lib/python3.6/dist-packages (from matplotlib~=2.0->rasa_nlu[mitie]) (2018.7)\n",
            "Requirement already satisfied: cycler>=0.10 in /usr/local/lib/python3.6/dist-packages (from matplotlib~=2.0->rasa_nlu[mitie]) (0.10.0)\n",
            "Requirement already satisfied: jmespath<1.0.0,>=0.7.1 in /usr/local/lib/python3.6/dist-packages (from boto3->rasa_nlu[mitie]) (0.9.3)\n",
            "Requirement already satisfied: s3transfer<0.2.0,>=0.1.10 in /usr/local/lib/python3.6/dist-packages (from boto3->rasa_nlu[mitie]) (0.1.13)\n",
            "Requirement already satisfied: botocore<1.13.0,>=1.12.34 in /usr/local/lib/python3.6/dist-packages (from boto3->rasa_nlu[mitie]) (1.12.34)\n",
            "Requirement already satisfied: PyHamcrest>=1.9.0 in /usr/local/lib/python3.6/dist-packages (from Twisted>=15.5->klein->rasa_nlu[mitie]) (1.9.0)\n",
            "Requirement already satisfied: zope.interface>=4.4.2 in /usr/local/lib/python3.6/dist-packages (from Twisted>=15.5->klein->rasa_nlu[mitie]) (4.6.0)\n",
            "Requirement already satisfied: attrs>=17.4.0 in /usr/local/lib/python3.6/dist-packages (from Twisted>=15.5->klein->rasa_nlu[mitie]) (18.2.0)\n",
            "Requirement already satisfied: hyperlink>=17.1.1 in /usr/local/lib/python3.6/dist-packages (from Twisted>=15.5->klein->rasa_nlu[mitie]) (18.0.0)\n",
            "Requirement already satisfied: Automat>=0.3.0 in /usr/local/lib/python3.6/dist-packages (from Twisted>=15.5->klein->rasa_nlu[mitie]) (0.7.0)\n",
            "Requirement already satisfied: constantly>=15.1 in /usr/local/lib/python3.6/dist-packages (from Twisted>=15.5->klein->rasa_nlu[mitie]) (15.1.0)\n",
            "Requirement already satisfied: docutils>=0.10 in /usr/local/lib/python3.6/dist-packages (from botocore<1.13.0,>=1.12.34->boto3->rasa_nlu[mitie]) (0.14)\n",
            "Requirement already satisfied: setuptools in /usr/local/lib/python3.6/dist-packages (from PyHamcrest>=1.9.0->Twisted>=15.5->klein->rasa_nlu[mitie]) (40.5.0)\n"
          ],
          "name": "stdout"
        }
      ]
    },
    {
      "metadata": {
        "id": "Sm1ICPwrc5MY",
        "colab_type": "text"
      },
      "cell_type": "markdown",
      "source": [
        "Create the database and try different "
      ]
    },
    {
      "metadata": {
        "id": "EUtPafyuWrlc",
        "colab_type": "code",
        "outputId": "e706f185-8a29-4f12-cffa-089906c3357a",
        "colab": {
          "base_uri": "https://localhost:8080/",
          "height": 34
        }
      },
      "cell_type": "code",
      "source": [
        "nlu_md = \"\"\"\n",
        "\n",
        "## intent:button\n",
        "- please click(Action) the [red](color) button\n",
        "- click(Action) button \n",
        "- click(Action) the blue button \n",
        "- click(Action) the [black](color) button \n",
        "- click(Action) the [first](position) button\n",
        "- click(Action) the [third](position) [red](color) button\n",
        "- click(Action) the [second](position) button\n",
        "- press(Action) the blue button\n",
        "- Please go to(Action) the next page by clicking(Action) the [red](color) button\n",
        "\n",
        "## lookup:Action   <!-- lookup table list -->\n",
        "- press\n",
        "- go to\n",
        "- click\n",
        "- clicking\n",
        "\n",
        "## intent:mood_unhappy\n",
        "- my day was horrible\n",
        "- I am sad\n",
        "- I don't feel very well\n",
        "- I am disappointed\n",
        "- super sad\n",
        "- I'm so sad\n",
        "- sad\n",
        "- very sad\n",
        "- unhappy\n",
        "- bad\n",
        "- very bad\n",
        "- awful\n",
        "- terrible\n",
        "- not so good\n",
        "- not very good\n",
        "- extremly sad\n",
        "- so saad\n",
        "- so sad\n",
        "\n",
        "\"\"\"\n",
        "%store nlu_md > nlu.md"
      ],
      "execution_count": 0,
      "outputs": [
        {
          "output_type": "stream",
          "text": [
            "Writing 'nlu_md' (str) to file 'nlu.md'.\n"
          ],
          "name": "stdout"
        }
      ]
    },
    {
      "metadata": {
        "id": "D6zRfbTKX7uo",
        "colab_type": "code",
        "outputId": "8235467c-7efb-4183-f1de-9e070bd7b387",
        "colab": {
          "base_uri": "https://localhost:8080/",
          "height": 34
        }
      },
      "cell_type": "code",
      "source": [
        "nlu_config = \"\"\"\n",
        "language: en\n",
        "pipeline: \n",
        "- name: \"tokenizer_whitespace\"\n",
        "- name: \"ner_crf\"\n",
        "- name: \"ner_synonyms\"\n",
        "- name: \"intent_featurizer_count_vectors\"\n",
        "- name: \"intent_classifier_tensorflow_embedding\"\n",
        "  intent_tokenization_flag: true\n",
        "  intent_split_symbol: \"+\"\n",
        "  \"\"\"\n",
        "%store nlu_config > nlu_config.yml\n"
      ],
      "execution_count": 0,
      "outputs": [
        {
          "output_type": "stream",
          "text": [
            "Writing 'nlu_config' (str) to file 'nlu_config.yml'.\n"
          ],
          "name": "stdout"
        }
      ]
    },
    {
      "metadata": {
        "id": "rl_dCP2XZidy",
        "colab_type": "code",
        "outputId": "f6752b8c-b5b1-4cb7-f325-eb9114772085",
        "colab": {
          "base_uri": "https://localhost:8080/",
          "height": 391
        }
      },
      "cell_type": "code",
      "source": [
        "!python -m rasa_nlu.train -c nlu_config.yml --data nlu.md -o models --fixed_model_name nlu --project current --verbose"
      ],
      "execution_count": 0,
      "outputs": [
        {
          "output_type": "stream",
          "text": [
            "2018-10-31 03:24:24 \u001b[1;30mINFO    \u001b[0m \u001b[34mrasa_nlu.training_data.loading\u001b[0m  - Training data format of nlu.md is md\n",
            "2018-10-31 03:24:24 \u001b[1;30mINFO    \u001b[0m \u001b[34mrasa_nlu.training_data.training_data\u001b[0m  - Training data stats: \n",
            "\t- intent examples: 27 (2 distinct intents)\n",
            "\t- Found intents: 'mood_unhappy', 'button'\n",
            "\t- entity examples: 6 (2 distinct entities)\n",
            "\t- found entities: 'color', 'position'\n",
            "\n",
            "2018-10-31 03:24:24 \u001b[1;30mINFO    \u001b[0m \u001b[34mrasa_nlu.model\u001b[0m  - Starting to train component tokenizer_whitespace\n",
            "2018-10-31 03:24:24 \u001b[1;30mINFO    \u001b[0m \u001b[34mrasa_nlu.model\u001b[0m  - Finished training component.\n",
            "2018-10-31 03:24:24 \u001b[1;30mINFO    \u001b[0m \u001b[34mrasa_nlu.model\u001b[0m  - Starting to train component ner_crf\n",
            "2018-10-31 03:24:24 \u001b[1;30mINFO    \u001b[0m \u001b[34mrasa_nlu.model\u001b[0m  - Finished training component.\n",
            "2018-10-31 03:24:24 \u001b[1;30mINFO    \u001b[0m \u001b[34mrasa_nlu.model\u001b[0m  - Starting to train component ner_synonyms\n",
            "2018-10-31 03:24:24 \u001b[1;30mINFO    \u001b[0m \u001b[34mrasa_nlu.model\u001b[0m  - Finished training component.\n",
            "2018-10-31 03:24:24 \u001b[1;30mINFO    \u001b[0m \u001b[34mrasa_nlu.model\u001b[0m  - Starting to train component intent_featurizer_count_vectors\n",
            "2018-10-31 03:24:24 \u001b[1;30mINFO    \u001b[0m \u001b[34mrasa_nlu.model\u001b[0m  - Finished training component.\n",
            "2018-10-31 03:24:24 \u001b[1;30mINFO    \u001b[0m \u001b[34mrasa_nlu.model\u001b[0m  - Starting to train component intent_classifier_tensorflow_embedding\n",
            "2018-10-31 03:24:29 \u001b[1;30mINFO    \u001b[0m \u001b[34mrasa_nlu.classifiers.embedding_intent_classifier\u001b[0m  - Accuracy is updated every 10 epochs\n",
            "Epochs: 100% 300/300 [00:00<00:00, 328.43it/s, loss=0.072, acc=1.000]\n",
            "2018-10-31 03:24:30 \u001b[1;30mINFO    \u001b[0m \u001b[34mrasa_nlu.classifiers.embedding_intent_classifier\u001b[0m  - Finished training embedding policy, loss=0.072, train accuracy=1.000\n",
            "2018-10-31 03:24:30 \u001b[1;30mINFO    \u001b[0m \u001b[34mrasa_nlu.model\u001b[0m  - Finished training component.\n",
            "2018-10-31 03:24:30 \u001b[1;30mINFO    \u001b[0m \u001b[34mrasa_nlu.model\u001b[0m  - Successfully saved model into '/content/models/current/nlu'\n",
            "2018-10-31 03:24:30 \u001b[1;30mINFO    \u001b[0m \u001b[34m__main__\u001b[0m  - Finished training\n"
          ],
          "name": "stdout"
        }
      ]
    },
    {
      "metadata": {
        "id": "yCKyK2v4Zrq-",
        "colab_type": "code",
        "outputId": "1ac32ba0-5ea7-4a47-9ca6-200225720c29",
        "colab": {
          "base_uri": "https://localhost:8080/",
          "height": 547
        }
      },
      "cell_type": "code",
      "source": [
        "from rasa_nlu.model import Interpreter\n",
        "import json\n",
        "interpreter = Interpreter.load(\"./models/current/nlu\")\n",
        "message = \"Press the first blue button\"\n",
        "result = interpreter.parse(message)\n",
        "print(json.dumps(result, indent=2))"
      ],
      "execution_count": 0,
      "outputs": [
        {
          "output_type": "stream",
          "text": [
            "/usr/local/lib/python3.6/dist-packages/rasa_nlu/extractors/entity_synonyms.py:85: UserWarning: Failed to load synonyms file from './models/current/nlu/entity_synonyms.json'\n",
            "  \"\".format(entity_synonyms_file))\n"
          ],
          "name": "stderr"
        },
        {
          "output_type": "stream",
          "text": [
            "INFO:tensorflow:Restoring parameters from ./models/current/nlu/intent_classifier_tensorflow_embedding.ckpt\n",
            "{\n",
            "  \"intent\": {\n",
            "    \"name\": \"button\",\n",
            "    \"confidence\": 0.8904086351394653\n",
            "  },\n",
            "  \"entities\": [\n",
            "    {\n",
            "      \"start\": 10,\n",
            "      \"end\": 15,\n",
            "      \"value\": \"first\",\n",
            "      \"entity\": \"position\",\n",
            "      \"confidence\": 0.5401163970421585,\n",
            "      \"extractor\": \"ner_crf\"\n",
            "    }\n",
            "  ],\n",
            "  \"intent_ranking\": [\n",
            "    {\n",
            "      \"name\": \"button\",\n",
            "      \"confidence\": 0.8904086351394653\n",
            "    },\n",
            "    {\n",
            "      \"name\": \"mood_unhappy\",\n",
            "      \"confidence\": 0.2628970742225647\n",
            "    }\n",
            "  ],\n",
            "  \"text\": \"Press the first blue button\"\n",
            "}\n"
          ],
          "name": "stdout"
        }
      ]
    }
  ]
}