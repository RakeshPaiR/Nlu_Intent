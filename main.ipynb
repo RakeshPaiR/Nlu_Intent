{
 "cells": [
  {
   "cell_type": "code",
   "execution_count": 5,
   "metadata": {},
   "outputs": [],
   "source": [
    "from selenium import webdriver\n",
    "from selenium.webdriver.common.keys import Keys\n",
    "import time\n",
    "import re\n",
    "from rasa_nlu.model import Interpreter\n",
    "import json"
   ]
  },
  {
   "cell_type": "code",
   "execution_count": 6,
   "metadata": {},
   "outputs": [],
   "source": [
    "def interpret(message):\n",
    "    from rasa_nlu.model import Interpreter\n",
    "    interpreter = Interpreter.load(\"./models/current/nlu\")\n",
    "    #message = \"go back\"\n",
    "    result = interpreter.parse(message)\n",
    "    return(result)\n",
    "    #print(result)\n",
    "    #print(json.dumps(result, indent=2))\n"
   ]
  },
  {
   "cell_type": "code",
   "execution_count": 23,
   "metadata": {},
   "outputs": [],
   "source": [
    "lang_souurce={\"malayalam\":'ml',\"english\":'en',\"french\":'fr',\"german\":'de',\"spanish\":'es',\"hindi\":'hi',\"tamil\":'ta'}\n",
    "direc={0:[\"previous\",\"back\"],1:[\"forward\",\"next\"]}"
   ]
  },
  {
   "cell_type": "code",
   "execution_count": 14,
   "metadata": {},
   "outputs": [],
   "source": [
    "def finder(result,driver):\n",
    "    try:\n",
    "        l=result['text'].split().index('find')\n",
    "    except:\n",
    "        l=result['text'].split().index('search')\n",
    "    val=result['text'].split()[l+1:]\n",
    "    val=\"\".join(val)\n",
    "    print(val)\n",
    "\n",
    "    #driver.get(\"https://www.google.co.in/search?q=hello&oq=hello&aqs=chrome..69i57j0l5.3469j0j7&sourceid=chrome&ie=UTF-8\")\n",
    "    driver.current_url\n",
    "    # import re    \n",
    "    # src = driver.page_source\n",
    "    # text_found = re.search(r'About', src)\n",
    "    #text_found=driver.el = driver.find_elements_by_xpath(\"//*[text()='Hello']\")\n",
    "    #text_found = driver.find_elements_by_xpath(\"//*[translate('hello','abcdefghijklmnopqrstuvwxyz','ABCDEFGHIJKLMNOPQRSTUVWXYZ')]\")\n",
    "    text_found = driver.find_elements_by_xpath(\"//*[contains(text(), '{}')]\".format(val))\n",
    "    text=driver.find_elements_by_link_text(\"{}\".format(val))\n",
    "\n",
    "    #text=driver.find_elements_by_link_text(\"Hello\")\n",
    "    text_found.extend(text)\n",
    "    import time\n",
    "    def highlight(element):\n",
    "        \"\"\"Highlights (blinks) a Selenium Webdriver element\"\"\"\n",
    "        driver = element._parent\n",
    "        def apply_style(s):\n",
    "            driver.execute_script(\"arguments[0].setAttribute('style', arguments[1]);\",\n",
    "                                  element, s)\n",
    "        original_style = element.get_attribute('style')\n",
    "        apply_style(\"background: yellow; border: 2px solid red;\")\n",
    "        time.sleep(5)\n",
    "        apply_style(original_style)\n",
    "\n",
    "    for i in range(len(text_found)):\n",
    "        highlight(text_found[i])\n"
   ]
  },
  {
   "cell_type": "code",
   "execution_count": 17,
   "metadata": {},
   "outputs": [],
   "source": [
    "def Refresh(driver):\n",
    "    driver.current_url \n",
    "    time.sleep(3)   \n",
    "    driver.refresh()"
   ]
  },
  {
   "cell_type": "code",
   "execution_count": 26,
   "metadata": {},
   "outputs": [],
   "source": [
    "def Change_Language(result,driver):\n",
    "    cur_url=driver.current_url\n",
    "    driver.close()\n",
    "    lang=result['entities'][1]['value']\n",
    "    if lang in lang_souurce.keys():\n",
    "        target=lang_souurce[lang]    \n",
    "    options = webdriver.ChromeOptions()\n",
    "    options.add_argument('--lang={}'.format(target))\n",
    "    driver= webdriver.Chrome(chrome_options=options)\n",
    "    driver.get(cur_url)"
   ]
  },
  {
   "cell_type": "code",
   "execution_count": 29,
   "metadata": {},
   "outputs": [],
   "source": [
    "def Navigation_Link(result,driver):\n",
    "    \n",
    "    action=result['entities'][0]['value']\n",
    "    match = re.findall(r'[\\w.]+.[\\w.]+', result['text'])\n",
    "    #driver = webdriver.Chrome()\n",
    "    driver.get(\"\".join([\"http://\",match[1]])) "
   ]
  },
  {
   "cell_type": "code",
   "execution_count": 32,
   "metadata": {},
   "outputs": [],
   "source": [
    "def NavigationMovandFor(result,driver):\n",
    "    driver.current_url\n",
    "    if result['entities'][1]['value'] in direc[1]:\n",
    "        driver.forward()\n",
    "    elif result['entities'][1]['value'] in direc[0]:\n",
    "        driver.back()"
   ]
  },
  {
   "cell_type": "code",
   "execution_count": null,
   "metadata": {},
   "outputs": [],
   "source": [
    "# function for new tab and new window + function to close\n",
    "# check the below interface"
   ]
  },
  {
   "cell_type": "code",
   "execution_count": 4,
   "metadata": {},
   "outputs": [
    {
     "name": "stdout",
     "output_type": "stream",
     "text": [
      "END\n"
     ]
    }
   ],
   "source": [
    "input_message=\"start\"\n",
    "while(input_message!=\"end\"):\n",
    "    input_message=input()\n",
    "    intent=interpret(input_message)\n",
    "    \n",
    "    if(intent['intent']['name']==\"Navigation\"):\n",
    "        if(result['entities'][0]['value']==\"go\" and len(result['entities'])==1):  # Navigation to particular page.\n",
    "            Navigation_Link(intent)                                        \n",
    "        elif(len(result['entities'])>1)\n",
    "            NavigationMovandFor(intent) #backward and forward navigation.\n",
    "        #elif # to open and close tabs and windows section.\n",
    "    \n",
    "    elif(intent['intent']['name']==\"Refresh\"):\n",
    "        Refresh()\n",
    "    elif(intent['intent']['name']==\"Language\"):\n",
    "        Change_Language(intent)\n",
    "    elif(intent['intent']['name']==\"Find\"):\n",
    "        finder(intent)\n",
    "    \n",
    "        \n"
   ]
  },
  {
   "cell_type": "code",
   "execution_count": null,
   "metadata": {},
   "outputs": [],
   "source": []
  },
  {
   "cell_type": "code",
   "execution_count": 33,
   "metadata": {},
   "outputs": [
    {
     "name": "stderr",
     "output_type": "stream",
     "text": [
      "C:\\Users\\jishn\\Anaconda3\\envs\\Jishnu_Rasa\\lib\\site-packages\\rasa_nlu\\extractors\\entity_synonyms.py:85: UserWarning: Failed to load synonyms file from './models/current/nlu\\entity_synonyms.json'\n",
      "  \"\".format(entity_synonyms_file))\n"
     ]
    },
    {
     "name": "stdout",
     "output_type": "stream",
     "text": [
      "INFO:tensorflow:Restoring parameters from ./models/current/nlu\\intent_classifier_tensorflow_embedding.ckpt\n",
      "INFO:tensorflow:Restoring parameters from ./models/current/nlu\\intent_classifier_tensorflow_embedding.ckpt\n"
     ]
    }
   ],
   "source": [
    "driver = webdriver.Chrome()\n",
    "driver.get(\"https://www.google.co.in/search?q=hello&oq=hello&aqs=chrome..69i57j0l5.3469j0j7&sourceid=chrome&ie=UTF-8\")\n",
    "#Change_Language(interpret(\"change language to malayalam\"),driver)\n",
    "Navigation_Link(interpret(\"go to google.com\"),driver)\n",
    "NavigationMovandFor(interpret(\"go back\"),driver)"
   ]
  },
  {
   "cell_type": "code",
   "execution_count": null,
   "metadata": {},
   "outputs": [],
   "source": []
  }
 ],
 "metadata": {
  "kernelspec": {
   "display_name": "Python 3",
   "language": "python",
   "name": "python3"
  },
  "language_info": {
   "codemirror_mode": {
    "name": "ipython",
    "version": 3
   },
   "file_extension": ".py",
   "mimetype": "text/x-python",
   "name": "python",
   "nbconvert_exporter": "python",
   "pygments_lexer": "ipython3",
   "version": "3.6.5"
  }
 },
 "nbformat": 4,
 "nbformat_minor": 2
}
