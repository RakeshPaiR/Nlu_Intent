{
 "cells": [
  {
   "cell_type": "code",
   "execution_count": 5,
   "metadata": {},
   "outputs": [],
   "source": [
    "from selenium import webdriver\n",
    "from selenium.webdriver.common.keys import Keys\n",
    "import time\n",
    "import re\n",
    "from rasa_nlu.model import Interpreter\n",
    "import json"
   ]
  },
  {
   "cell_type": "code",
   "execution_count": 6,
   "metadata": {},
   "outputs": [],
   "source": [
    "def interpret(message):\n",
    "    from rasa_nlu.model import Interpreter\n",
    "    interpreter = Interpreter.load(\"./models/current/nlu\")\n",
    "    #message = \"go back\"\n",
    "    result = interpreter.parse(message)\n",
    "    return(result)\n",
    "    #print(result)\n",
    "    #print(json.dumps(result, indent=2))\n"
   ]
  },
  {
   "cell_type": "code",
   "execution_count": 7,
   "metadata": {},
   "outputs": [],
   "source": [
    "driver = webdriver.Chrome()"
   ]
  },
  {
   "cell_type": "code",
   "execution_count": 4,
   "metadata": {},
   "outputs": [
    {
     "name": "stdout",
     "output_type": "stream",
     "text": [
      "END\n"
     ]
    }
   ],
   "source": [
    "input_message=\"start\"\n",
    "while(input_message!=\"end\"):\n",
    "    input_message=input()\n",
    "    intent=interpret(input_message)\n",
    "    \n",
    "    if(intent['intent']['name']==\"Navigation\"):\n",
    "        if(result['entities'][0]['value']==\"go\" and len(result['entities'])==1):  # Navigation to particular page.\n",
    "            Navigation_Link(intent)                                        \n",
    "        elif(len(result['entities'])>1)\n",
    "            NavigationMovandFor(intent) #backward and forward navigation.\n",
    "        #elif # to open and close tabs and windows section.\n",
    "    \n",
    "    elif(intent['intent']['name']==\"Refresh\"):\n",
    "        Refresh()\n",
    "    elif(intent['intent']['name']==\"Language\"):\n",
    "        Change_Language(intent)\n",
    "    elif(intent['intent']['name']==\"Find\"):\n",
    "        find(intent)\n",
    "    \n",
    "        \n"
   ]
  },
  {
   "cell_type": "code",
   "execution_count": null,
   "metadata": {},
   "outputs": [],
   "source": []
  }
 ],
 "metadata": {
  "kernelspec": {
   "display_name": "Python 3",
   "language": "python",
   "name": "python3"
  },
  "language_info": {
   "codemirror_mode": {
    "name": "ipython",
    "version": 3
   },
   "file_extension": ".py",
   "mimetype": "text/x-python",
   "name": "python",
   "nbconvert_exporter": "python",
   "pygments_lexer": "ipython3",
   "version": "3.6.5"
  }
 },
 "nbformat": 4,
 "nbformat_minor": 2
}
