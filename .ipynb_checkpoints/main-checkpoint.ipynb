{
 "cells": [
  {
   "cell_type": "code",
   "execution_count": 1,
   "metadata": {},
   "outputs": [],
   "source": [
    "from selenium import webdriver\n",
    "from selenium.webdriver.common.keys import Keys\n",
    "import time\n",
    "import re\n",
    "from rasa_nlu.model import Interpreter\n",
    "import json"
   ]
  },
  {
   "cell_type": "code",
   "execution_count": 2,
   "metadata": {},
   "outputs": [],
   "source": [
    "def interpret(message):\n",
    "    from rasa_nlu.model import Interpreter\n",
    "    interpreter = Interpreter.load(\"./models/current/nlu\")\n",
    "    #message = \"go back\"\n",
    "    result = interpreter.parse(message)\n",
    "    return(result)\n",
    "    #print(result)\n",
    "    #print(json.dumps(result, indent=2))\n"
   ]
  },
  {
   "cell_type": "code",
   "execution_count": 3,
   "metadata": {},
   "outputs": [],
   "source": [
    "lang_souurce={\"malayalam\":'ml',\"english\":'en',\"french\":'fr',\"german\":'de',\"spanish\":'es',\"hindi\":'hi',\"tamil\":'ta'}\n",
    "direc={0:[\"previous\",\"back\"],1:[\"forward\",\"next\"]}\n",
    "#current_window=[]"
   ]
  },
  {
   "cell_type": "code",
   "execution_count": 7,
   "metadata": {},
   "outputs": [],
   "source": [
    "def finder(result,driver):\n",
    "    try:\n",
    "        l=result['text'].split().index('find')\n",
    "    except:\n",
    "        l=result['text'].split().index('search')\n",
    "    val=result['text'].split()[l+1:]\n",
    "    val=\"\".join(val)\n",
    "    print(val)\n",
    "\n",
    "    #driver.get(\"https://www.google.co.in/search?q=hello&oq=hello&aqs=chrome..69i57j0l5.3469j0j7&sourceid=chrome&ie=UTF-8\")\n",
    "    driver.current_url\n",
    "    # import re    \n",
    "    # src = driver.page_source\n",
    "    # text_found = re.search(r'About', src)\n",
    "    #text_found=driver.el = driver.find_elements_by_xpath(\"//*[text()='Hello']\")\n",
    "    #text_found = driver.find_elements_by_xpath(\"//*[translate('hello','abcdefghijklmnopqrstuvwxyz','ABCDEFGHIJKLMNOPQRSTUVWXYZ')]\")\n",
    "    text_found = driver.find_elements_by_xpath(\"//*[contains(text(), '{}')]\".format(val))\n",
    "    text=driver.find_elements_by_link_text(\"{}\".format(val))\n",
    "\n",
    "    #text=driver.find_elements_by_link_text(\"Hello\")\n",
    "    text_found.extend(text)\n",
    "    import time\n",
    "    def highlight(element):\n",
    "        \"\"\"Highlights (blinks) a Selenium Webdriver element\"\"\"\n",
    "        driver = element._parent\n",
    "        def apply_style(s):\n",
    "            driver.execute_script(\"arguments[0].setAttribute('style', arguments[1]);\",\n",
    "                                  element, s)\n",
    "        original_style = element.get_attribute('style')\n",
    "        apply_style(\"background: yellow; border: 2px solid red;\")\n",
    "        time.sleep(2)\n",
    "        apply_style(original_style)\n",
    "\n",
    "    for i in range(len(text_found)):\n",
    "        highlight(text_found[i])\n"
   ]
  },
  {
   "cell_type": "code",
   "execution_count": 6,
   "metadata": {},
   "outputs": [],
   "source": [
    "def Refresh(driver):\n",
    "    driver.current_url \n",
    "    time.sleep(3)   \n",
    "    driver.refresh()"
   ]
  },
  {
   "cell_type": "code",
   "execution_count": 8,
   "metadata": {},
   "outputs": [],
   "source": [
    "def Change_Language(result,driver):\n",
    "    cur_url=driver.current_url\n",
    "    driver.close()\n",
    "    lang=result['entities'][1]['value']\n",
    "    if lang in lang_souurce.keys():\n",
    "        target=lang_souurce[lang]    \n",
    "    options = webdriver.ChromeOptions()\n",
    "    options.add_argument('--lang={}'.format(target))\n",
    "    driver= webdriver.Chrome(chrome_options=options)\n",
    "    driver.get(cur_url)\n",
    "    return(driver)"
   ]
  },
  {
   "cell_type": "code",
   "execution_count": 9,
   "metadata": {},
   "outputs": [],
   "source": [
    "def Navigation_Link(result,driver):\n",
    "    \n",
    "    action=result['entities'][0]['value']\n",
    "    match = re.findall(r'[\\w.]+.[\\w.]+', result['text'])\n",
    "    #driver = webdriver.Chrome()\n",
    "    driver.get(\"\".join([\"http://\",match[1]])) "
   ]
  },
  {
   "cell_type": "code",
   "execution_count": 10,
   "metadata": {},
   "outputs": [],
   "source": [
    "def NavigationMovandFor(result,driver):\n",
    "    driver.current_url\n",
    "    if result['entities'][1]['value'] in direc[1]:\n",
    "        driver.forward()\n",
    "    elif result['entities'][1]['value'] in direc[0]:\n",
    "        driver.back()"
   ]
  },
  {
   "cell_type": "code",
   "execution_count": 11,
   "metadata": {},
   "outputs": [],
   "source": [
    "def NavigationWinTab(result,driver,window_status=[]):\n",
    "    #def Navigation(result):\n",
    "    if(result['entities'][2]['value']==\"tab\"):\n",
    "        if(result['entities'][0]['value']==\"open\" and result['entities'][1]['value']==\"new\"):\n",
    "    #driver=webdriver.Chrome()\n",
    "            current_window=driver.current_window_handle\n",
    "    # Open StackOverflow in new window/tab\n",
    "            driver.execute_script(\"window.open('')\")\n",
    "    # Get new window/tab ID\n",
    "            new_window = [window for window in driver.window_handles if window != current_window][0]\n",
    "    # Switch to new window/tab\n",
    "            driver.switch_to.window(new_window)\n",
    "        \n",
    "            return([current_window,new_window])\n",
    "\n",
    "        elif(result['entities'][0]['value']==\"close\"):\n",
    "            #driver.switch_to.window(window_status[1])\n",
    "            driver.close()\n",
    "            driver.switch_to.window(window_status[0])\n",
    "            return([window_status[0]])\n",
    "        \n",
    "    if(result['entities'][2]['value']==\"window\"):\n",
    "        if(result['entities'][0]['value']==\"open\" and result['entities'][1]['value']==\"new\"):\n",
    "            driver1=webdriver.Chrome()\n",
    "            return(driver1)\n",
    "        elif(result['entities'][0]['value']==\"close\"):\n",
    "            driver.close()\n",
    "            return(None)\n"
   ]
  },
  {
   "cell_type": "code",
   "execution_count": 24,
   "metadata": {},
   "outputs": [],
   "source": [
    "driver = webdriver.Chrome()"
   ]
  },
  {
   "cell_type": "code",
   "execution_count": null,
   "metadata": {},
   "outputs": [
    {
     "name": "stdout",
     "output_type": "stream",
     "text": [
      "go to google.com\n"
     ]
    },
    {
     "name": "stderr",
     "output_type": "stream",
     "text": [
      "C:\\Users\\jishn\\Anaconda3\\envs\\Jishnu_Rasa\\lib\\site-packages\\rasa_nlu\\extractors\\entity_synonyms.py:85: UserWarning: Failed to load synonyms file from './models/current/nlu\\entity_synonyms.json'\n",
      "  \"\".format(entity_synonyms_file))\n"
     ]
    },
    {
     "name": "stdout",
     "output_type": "stream",
     "text": [
      "INFO:tensorflow:Restoring parameters from ./models/current/nlu\\intent_classifier_tensorflow_embedding.ckpt\n",
      "refresh\n",
      "INFO:tensorflow:Restoring parameters from ./models/current/nlu\\intent_classifier_tensorflow_embedding.ckpt\n",
      "change the language to malayalam\n",
      "INFO:tensorflow:Restoring parameters from ./models/current/nlu\\intent_classifier_tensorflow_embedding.ckpt\n"
     ]
    },
    {
     "name": "stderr",
     "output_type": "stream",
     "text": [
      "C:\\Users\\jishn\\Anaconda3\\envs\\Jishnu_Rasa\\lib\\site-packages\\ipykernel_launcher.py:9: DeprecationWarning: use options instead of chrome_options\n",
      "  if __name__ == '__main__':\n"
     ]
    }
   ],
   "source": [
    "input_message=\"start\"\n",
    "while(input_message!=\"end\"):\n",
    "    input_message=input()\n",
    "    intent=interpret(input_message)\n",
    "    \n",
    "    if(intent['intent']['name']==\"Navigation\"):\n",
    "        if(intent['entities'][0]['value']==\"go\" and len(intent['entities'])==1):  # Navigation to particular page.\n",
    "            Navigation_Link(intent,driver)                                        \n",
    "        elif(len(intent['entities'])>1 and intent['entities'][0]['value']==\"go\"):\n",
    "            NavigationMovandFor(intent,driver) #backward and forward navigation.\n",
    "        elif(len(intent['entities'])>1 and (intent['entities'][0]['value']==\"open\" or intent['entities'][0]['value']==\"close\")):\n",
    "            window_status=NavigationWinTab(intent,driver)\n",
    "\n",
    "    \n",
    "    elif(intent['intent']['name']==\"Refresh\"):\n",
    "        Refresh(driver)\n",
    "    elif(intent['intent']['name']==\"Language\"):\n",
    "        driver=Change_Language(intent,driver)\n",
    "    elif(intent['intent']['name']==\"Find\"):\n",
    "        finder(intent,driver)\n",
    "    \n",
    "        \n"
   ]
  },
  {
   "cell_type": "code",
   "execution_count": null,
   "metadata": {},
   "outputs": [],
   "source": []
  },
  {
   "cell_type": "code",
   "execution_count": 27,
   "metadata": {},
   "outputs": [
    {
     "name": "stderr",
     "output_type": "stream",
     "text": [
      "C:\\Users\\jishn\\Anaconda3\\envs\\Jishnu_Rasa\\lib\\site-packages\\rasa_nlu\\extractors\\entity_synonyms.py:85: UserWarning: Failed to load synonyms file from './models/current/nlu\\entity_synonyms.json'\n",
      "  \"\".format(entity_synonyms_file))\n"
     ]
    },
    {
     "name": "stdout",
     "output_type": "stream",
     "text": [
      "INFO:tensorflow:Restoring parameters from ./models/current/nlu\\intent_classifier_tensorflow_embedding.ckpt\n",
      "INFO:tensorflow:Restoring parameters from ./models/current/nlu\\intent_classifier_tensorflow_embedding.ckpt\n",
      "INFO:tensorflow:Restoring parameters from ./models/current/nlu\\intent_classifier_tensorflow_embedding.ckpt\n",
      "INFO:tensorflow:Restoring parameters from ./models/current/nlu\\intent_classifier_tensorflow_embedding.ckpt\n"
     ]
    }
   ],
   "source": [
    "import time\n",
    "driver = webdriver.Chrome()\n",
    "driver.get(\"https://www.google.co.in/search?q=hello&oq=hello&aqs=chrome..69i57j0l5.3469j0j7&sourceid=chrome&ie=UTF-8\")\n",
    "#Change_Language(interpret(\"change language to malayalam\"),driver)\n",
    "Navigation_Link(interpret(\"go to google.com\"),driver)\n",
    "NavigationMovandFor(interpret(\"go back\"),driver)\n",
    "window_status=NavigationWinTab(interpret(\"open a new tab\"),driver)\n",
    "time.sleep(5)\n",
    "window_status=NavigationWinTab(interpret(\"close the first tab\"),driver,window_status)\n"
   ]
  },
  {
   "cell_type": "code",
   "execution_count": 8,
   "metadata": {},
   "outputs": [
    {
     "name": "stderr",
     "output_type": "stream",
     "text": [
      "C:\\Users\\jishn\\Anaconda3\\envs\\Jishnu_Rasa\\lib\\site-packages\\rasa_nlu\\extractors\\entity_synonyms.py:85: UserWarning: Failed to load synonyms file from './models/current/nlu\\entity_synonyms.json'\n",
      "  \"\".format(entity_synonyms_file))\n"
     ]
    },
    {
     "name": "stdout",
     "output_type": "stream",
     "text": [
      "INFO:tensorflow:Restoring parameters from ./models/current/nlu\\intent_classifier_tensorflow_embedding.ckpt\n",
      "Hello\n"
     ]
    },
    {
     "ename": "WebDriverException",
     "evalue": "Message: chrome not reachable\n  (Session info: chrome=70.0.3538.110)\n  (Driver info: chromedriver=2.44.609538 (b655c5a60b0b544917107a59d4153d4bf78e1b90),platform=Windows NT 10.0.17134 x86_64)\n",
     "output_type": "error",
     "traceback": [
      "\u001b[1;31m---------------------------------------------------------------------------\u001b[0m",
      "\u001b[1;31mWebDriverException\u001b[0m                        Traceback (most recent call last)",
      "\u001b[1;32m<ipython-input-8-d76a788ceec5>\u001b[0m in \u001b[0;36m<module>\u001b[1;34m()\u001b[0m\n\u001b[0;32m      1\u001b[0m \u001b[0mdriver\u001b[0m \u001b[1;33m=\u001b[0m \u001b[0mwebdriver\u001b[0m\u001b[1;33m.\u001b[0m\u001b[0mChrome\u001b[0m\u001b[1;33m(\u001b[0m\u001b[1;33m)\u001b[0m\u001b[1;33m\u001b[0m\u001b[0m\n\u001b[0;32m      2\u001b[0m \u001b[0mdriver\u001b[0m\u001b[1;33m.\u001b[0m\u001b[0mget\u001b[0m\u001b[1;33m(\u001b[0m\u001b[1;34m\"https://www.google.co.in/search?q=hello&oq=hello&aqs=chrome..69i57j0l5.3469j0j7&sourceid=chrome&ie=UTF-8\"\u001b[0m\u001b[1;33m)\u001b[0m\u001b[1;33m\u001b[0m\u001b[0m\n\u001b[1;32m----> 3\u001b[1;33m \u001b[0mfinder\u001b[0m\u001b[1;33m(\u001b[0m\u001b[0minterpret\u001b[0m\u001b[1;33m(\u001b[0m\u001b[1;34m\"find Hello\"\u001b[0m\u001b[1;33m)\u001b[0m\u001b[1;33m,\u001b[0m\u001b[0mdriver\u001b[0m\u001b[1;33m)\u001b[0m\u001b[1;33m\u001b[0m\u001b[0m\n\u001b[0m",
      "\u001b[1;32m<ipython-input-7-4994c1f22aec>\u001b[0m in \u001b[0;36mfinder\u001b[1;34m(result, driver)\u001b[0m\n\u001b[0;32m     33\u001b[0m \u001b[1;33m\u001b[0m\u001b[0m\n\u001b[0;32m     34\u001b[0m     \u001b[1;32mfor\u001b[0m \u001b[0mi\u001b[0m \u001b[1;32min\u001b[0m \u001b[0mrange\u001b[0m\u001b[1;33m(\u001b[0m\u001b[0mlen\u001b[0m\u001b[1;33m(\u001b[0m\u001b[0mtext_found\u001b[0m\u001b[1;33m)\u001b[0m\u001b[1;33m)\u001b[0m\u001b[1;33m:\u001b[0m\u001b[1;33m\u001b[0m\u001b[0m\n\u001b[1;32m---> 35\u001b[1;33m         \u001b[0mhighlight\u001b[0m\u001b[1;33m(\u001b[0m\u001b[0mtext_found\u001b[0m\u001b[1;33m[\u001b[0m\u001b[0mi\u001b[0m\u001b[1;33m]\u001b[0m\u001b[1;33m)\u001b[0m\u001b[1;33m\u001b[0m\u001b[0m\n\u001b[0m",
      "\u001b[1;32m<ipython-input-7-4994c1f22aec>\u001b[0m in \u001b[0;36mhighlight\u001b[1;34m(element)\u001b[0m\n\u001b[0;32m     30\u001b[0m         \u001b[0mapply_style\u001b[0m\u001b[1;33m(\u001b[0m\u001b[1;34m\"background: yellow; border: 2px solid red;\"\u001b[0m\u001b[1;33m)\u001b[0m\u001b[1;33m\u001b[0m\u001b[0m\n\u001b[0;32m     31\u001b[0m         \u001b[0mtime\u001b[0m\u001b[1;33m.\u001b[0m\u001b[0msleep\u001b[0m\u001b[1;33m(\u001b[0m\u001b[1;36m2\u001b[0m\u001b[1;33m)\u001b[0m\u001b[1;33m\u001b[0m\u001b[0m\n\u001b[1;32m---> 32\u001b[1;33m         \u001b[0mapply_style\u001b[0m\u001b[1;33m(\u001b[0m\u001b[0moriginal_style\u001b[0m\u001b[1;33m)\u001b[0m\u001b[1;33m\u001b[0m\u001b[0m\n\u001b[0m\u001b[0;32m     33\u001b[0m \u001b[1;33m\u001b[0m\u001b[0m\n\u001b[0;32m     34\u001b[0m     \u001b[1;32mfor\u001b[0m \u001b[0mi\u001b[0m \u001b[1;32min\u001b[0m \u001b[0mrange\u001b[0m\u001b[1;33m(\u001b[0m\u001b[0mlen\u001b[0m\u001b[1;33m(\u001b[0m\u001b[0mtext_found\u001b[0m\u001b[1;33m)\u001b[0m\u001b[1;33m)\u001b[0m\u001b[1;33m:\u001b[0m\u001b[1;33m\u001b[0m\u001b[0m\n",
      "\u001b[1;32m<ipython-input-7-4994c1f22aec>\u001b[0m in \u001b[0;36mapply_style\u001b[1;34m(s)\u001b[0m\n\u001b[0;32m     26\u001b[0m         \u001b[1;32mdef\u001b[0m \u001b[0mapply_style\u001b[0m\u001b[1;33m(\u001b[0m\u001b[0ms\u001b[0m\u001b[1;33m)\u001b[0m\u001b[1;33m:\u001b[0m\u001b[1;33m\u001b[0m\u001b[0m\n\u001b[0;32m     27\u001b[0m             driver.execute_script(\"arguments[0].setAttribute('style', arguments[1]);\",\n\u001b[1;32m---> 28\u001b[1;33m                                   element, s)\n\u001b[0m\u001b[0;32m     29\u001b[0m         \u001b[0moriginal_style\u001b[0m \u001b[1;33m=\u001b[0m \u001b[0melement\u001b[0m\u001b[1;33m.\u001b[0m\u001b[0mget_attribute\u001b[0m\u001b[1;33m(\u001b[0m\u001b[1;34m'style'\u001b[0m\u001b[1;33m)\u001b[0m\u001b[1;33m\u001b[0m\u001b[0m\n\u001b[0;32m     30\u001b[0m         \u001b[0mapply_style\u001b[0m\u001b[1;33m(\u001b[0m\u001b[1;34m\"background: yellow; border: 2px solid red;\"\u001b[0m\u001b[1;33m)\u001b[0m\u001b[1;33m\u001b[0m\u001b[0m\n",
      "\u001b[1;32m~\\Anaconda3\\envs\\Jishnu_Rasa\\lib\\site-packages\\selenium\\webdriver\\remote\\webdriver.py\u001b[0m in \u001b[0;36mexecute_script\u001b[1;34m(self, script, *args)\u001b[0m\n\u001b[0;32m    634\u001b[0m         return self.execute(command, {\n\u001b[0;32m    635\u001b[0m             \u001b[1;34m'script'\u001b[0m\u001b[1;33m:\u001b[0m \u001b[0mscript\u001b[0m\u001b[1;33m,\u001b[0m\u001b[1;33m\u001b[0m\u001b[0m\n\u001b[1;32m--> 636\u001b[1;33m             'args': converted_args})['value']\n\u001b[0m\u001b[0;32m    637\u001b[0m \u001b[1;33m\u001b[0m\u001b[0m\n\u001b[0;32m    638\u001b[0m     \u001b[1;32mdef\u001b[0m \u001b[0mexecute_async_script\u001b[0m\u001b[1;33m(\u001b[0m\u001b[0mself\u001b[0m\u001b[1;33m,\u001b[0m \u001b[0mscript\u001b[0m\u001b[1;33m,\u001b[0m \u001b[1;33m*\u001b[0m\u001b[0margs\u001b[0m\u001b[1;33m)\u001b[0m\u001b[1;33m:\u001b[0m\u001b[1;33m\u001b[0m\u001b[0m\n",
      "\u001b[1;32m~\\Anaconda3\\envs\\Jishnu_Rasa\\lib\\site-packages\\selenium\\webdriver\\remote\\webdriver.py\u001b[0m in \u001b[0;36mexecute\u001b[1;34m(self, driver_command, params)\u001b[0m\n\u001b[0;32m    319\u001b[0m         \u001b[0mresponse\u001b[0m \u001b[1;33m=\u001b[0m \u001b[0mself\u001b[0m\u001b[1;33m.\u001b[0m\u001b[0mcommand_executor\u001b[0m\u001b[1;33m.\u001b[0m\u001b[0mexecute\u001b[0m\u001b[1;33m(\u001b[0m\u001b[0mdriver_command\u001b[0m\u001b[1;33m,\u001b[0m \u001b[0mparams\u001b[0m\u001b[1;33m)\u001b[0m\u001b[1;33m\u001b[0m\u001b[0m\n\u001b[0;32m    320\u001b[0m         \u001b[1;32mif\u001b[0m \u001b[0mresponse\u001b[0m\u001b[1;33m:\u001b[0m\u001b[1;33m\u001b[0m\u001b[0m\n\u001b[1;32m--> 321\u001b[1;33m             \u001b[0mself\u001b[0m\u001b[1;33m.\u001b[0m\u001b[0merror_handler\u001b[0m\u001b[1;33m.\u001b[0m\u001b[0mcheck_response\u001b[0m\u001b[1;33m(\u001b[0m\u001b[0mresponse\u001b[0m\u001b[1;33m)\u001b[0m\u001b[1;33m\u001b[0m\u001b[0m\n\u001b[0m\u001b[0;32m    322\u001b[0m             response['value'] = self._unwrap_value(\n\u001b[0;32m    323\u001b[0m                 response.get('value', None))\n",
      "\u001b[1;32m~\\Anaconda3\\envs\\Jishnu_Rasa\\lib\\site-packages\\selenium\\webdriver\\remote\\errorhandler.py\u001b[0m in \u001b[0;36mcheck_response\u001b[1;34m(self, response)\u001b[0m\n\u001b[0;32m    240\u001b[0m                 \u001b[0malert_text\u001b[0m \u001b[1;33m=\u001b[0m \u001b[0mvalue\u001b[0m\u001b[1;33m[\u001b[0m\u001b[1;34m'alert'\u001b[0m\u001b[1;33m]\u001b[0m\u001b[1;33m.\u001b[0m\u001b[0mget\u001b[0m\u001b[1;33m(\u001b[0m\u001b[1;34m'text'\u001b[0m\u001b[1;33m)\u001b[0m\u001b[1;33m\u001b[0m\u001b[0m\n\u001b[0;32m    241\u001b[0m             \u001b[1;32mraise\u001b[0m \u001b[0mexception_class\u001b[0m\u001b[1;33m(\u001b[0m\u001b[0mmessage\u001b[0m\u001b[1;33m,\u001b[0m \u001b[0mscreen\u001b[0m\u001b[1;33m,\u001b[0m \u001b[0mstacktrace\u001b[0m\u001b[1;33m,\u001b[0m \u001b[0malert_text\u001b[0m\u001b[1;33m)\u001b[0m\u001b[1;33m\u001b[0m\u001b[0m\n\u001b[1;32m--> 242\u001b[1;33m         \u001b[1;32mraise\u001b[0m \u001b[0mexception_class\u001b[0m\u001b[1;33m(\u001b[0m\u001b[0mmessage\u001b[0m\u001b[1;33m,\u001b[0m \u001b[0mscreen\u001b[0m\u001b[1;33m,\u001b[0m \u001b[0mstacktrace\u001b[0m\u001b[1;33m)\u001b[0m\u001b[1;33m\u001b[0m\u001b[0m\n\u001b[0m\u001b[0;32m    243\u001b[0m \u001b[1;33m\u001b[0m\u001b[0m\n\u001b[0;32m    244\u001b[0m     \u001b[1;32mdef\u001b[0m \u001b[0m_value_or_default\u001b[0m\u001b[1;33m(\u001b[0m\u001b[0mself\u001b[0m\u001b[1;33m,\u001b[0m \u001b[0mobj\u001b[0m\u001b[1;33m,\u001b[0m \u001b[0mkey\u001b[0m\u001b[1;33m,\u001b[0m \u001b[0mdefault\u001b[0m\u001b[1;33m)\u001b[0m\u001b[1;33m:\u001b[0m\u001b[1;33m\u001b[0m\u001b[0m\n",
      "\u001b[1;31mWebDriverException\u001b[0m: Message: chrome not reachable\n  (Session info: chrome=70.0.3538.110)\n  (Driver info: chromedriver=2.44.609538 (b655c5a60b0b544917107a59d4153d4bf78e1b90),platform=Windows NT 10.0.17134 x86_64)\n"
     ]
    }
   ],
   "source": [
    "driver = webdriver.Chrome()\n",
    "driver.get(\"https://www.google.co.in/search?q=hello&oq=hello&aqs=chrome..69i57j0l5.3469j0j7&sourceid=chrome&ie=UTF-8\")\n",
    "finder(interpret(\"find Hello\"),driver)"
   ]
  },
  {
   "cell_type": "code",
   "execution_count": null,
   "metadata": {},
   "outputs": [],
   "source": []
  }
 ],
 "metadata": {
  "kernelspec": {
   "display_name": "Python 3",
   "language": "python",
   "name": "python3"
  },
  "language_info": {
   "codemirror_mode": {
    "name": "ipython",
    "version": 3
   },
   "file_extension": ".py",
   "mimetype": "text/x-python",
   "name": "python",
   "nbconvert_exporter": "python",
   "pygments_lexer": "ipython3",
   "version": "3.6.5"
  }
 },
 "nbformat": 4,
 "nbformat_minor": 2
}
