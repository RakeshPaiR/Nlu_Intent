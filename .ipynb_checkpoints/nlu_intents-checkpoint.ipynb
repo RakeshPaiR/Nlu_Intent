{
 "cells": [
  {
   "cell_type": "markdown",
   "metadata": {
    "colab_type": "text",
    "id": "view-in-github"
   },
   "source": [
    "<a href=\"https://colab.research.google.com/github/jish1398/Nlu_Intent/blob/master/nlu_intents.ipynb\" target=\"_parent\"><img src=\"https://colab.research.google.com/assets/colab-badge.svg\" alt=\"Open In Colab\"/></a>"
   ]
  },
  {
   "cell_type": "markdown",
   "metadata": {},
   "source": [
    "Run the command in the local command prompt:\n",
    "\n",
    "python -m rasa_nlu.train -c nlu_config.yml --data nlu.md -o models --fixed_model_name nlu --project current --verbose"
   ]
  },
  {
   "cell_type": "markdown",
   "metadata": {
    "colab_type": "text",
    "id": "Sm1ICPwrc5MY"
   },
   "source": [
    "Create the database and try different "
   ]
  },
  {
   "cell_type": "code",
   "execution_count": 6,
   "metadata": {},
   "outputs": [],
   "source": [
    "from selenium import webdriver\n",
    "import time\n",
    "import re\n",
    "from rasa_nlu.model import Interpreter\n",
    "import json\n"
   ]
  },
  {
   "cell_type": "code",
   "execution_count": 23,
   "metadata": {
    "colab": {
     "base_uri": "https://localhost:8080/",
     "height": 34
    },
    "colab_type": "code",
    "id": "EUtPafyuWrlc",
    "outputId": "77bee17d-5f5c-4569-b9f3-d708f6e5bf64"
   },
   "outputs": [
    {
     "name": "stdout",
     "output_type": "stream",
     "text": [
      "Writing 'nlu_md' (str) to file 'nlu.md'.\n"
     ]
    }
   ],
   "source": [
    "nlu_md = \"\"\"\n",
    "\n",
    "## intent:button\n",
    "- please click(Action) the [red](color) button\n",
    "- please click(OK) the [red](color) button\n",
    "- please click(OK) the [red](color) button\n",
    "\n",
    "- click button \n",
    "- click the [blue](color) button\n",
    "- click the [blue](color) colored button\n",
    "- click the [red](color) colored button\n",
    "- click the [black](color) button \n",
    "- click the [first](position) button\n",
    "- click the [third](position) [red](color) button\n",
    "- click the [second](position) button\n",
    "- press the [blue](color) button\n",
    "- Please go to(Action) the next page by clicking(Action) the [red](color) button\n",
    "- Press [red](color) button\n",
    "- Click [blue](color) button\n",
    "- Please click the [red](color) button\n",
    "- Click the [first](position) [blue](color) button\n",
    "- click the [first](position) [red](color) button\n",
    "- clicke the[first](position) [green](color) button\n",
    "- click the [second](position) [red](color) button\n",
    "- click the [second](position) [blue](color) button\n",
    "- click the [second](position) [green](color) button\n",
    "- click the [third](position)  [red](color) button\n",
    "- click the [fourth](position) [red](color) button\n",
    "- click the [third](position) [blue](color) button\n",
    "\n",
    "## lookup:action   <!-- lookup table list -->\n",
    "- press\n",
    "- go to\n",
    "- click\n",
    "- clicking\n",
    "\n",
    "## lookup:positon   <!-- lookup table list -->\n",
    "- first \n",
    "- second\n",
    "- third\n",
    "- fourth \n",
    "- fifth\n",
    "- sixth\n",
    "\n",
    "## intent: Language\n",
    "- (change)[actionL] the language to [english](lang)\n",
    "- (change)[actionL] the language to [spanish](lang)\n",
    "- (change)[actionL] the language to [french](lang)   <!-- Try to add synonyms -->\n",
    "- (change)[actionL] the language to [hindi](lang)\n",
    "- please (change)[actionL] the language to [spanish](lang)\n",
    "- please (change)[actionL] the language to [english](lang)\n",
    "- can you please (change)[actionL] the language to [english](lang)?\n",
    "- can you please (change)[actionL] the language to [hindi](lang)?\n",
    "- can you please (change)[actionL] the language to [french](lang)?\n",
    "- can you please (change)[actionL] the language to [spanish](lang)?\n",
    "- (change)[actionL] language  <!-- Default Language is English -->\n",
    "\n",
    "\n",
    "## intent: Navigation\n",
    "- please [go](action) to google.com \n",
    "- [go](action) [back](direction) \n",
    "- [go](action) [backward](direction) \n",
    "- [go](action) [forward](direction)\n",
    "- [go](action) to [previous](direction) website\n",
    "- [go](action) to [next](direction) website\n",
    "- [new](type) [window](type)\n",
    "- [new](type) [tab](type)\n",
    "- [open](action) a [new](type) [tab](wintab) <-- Paramters from this will be the type,action,direction,wintab -->\n",
    "- [open](action) a [new](type) [window](wintab) <!-- Default Language is New tab -->\n",
    "- can you please [go](action) to [forward](direction)?\n",
    "- can you please [go](action) to [back](direction)?\n",
    "- please [go](action) [forward](direction).\n",
    "- please [open](action) a [new](type) [tab](wintab)\n",
    "- please [open](action) a [new](type) [window](wintab)\n",
    "- please [close](action) the (first)[position] [tab](wintab)\n",
    "- please [close] the (second)[position] [tab](wintab)\n",
    "- please [close](action) the [window](wintab)\n",
    "- please [open](action) a [window](wintab) \n",
    "- please [open](action) a [tab](wintab)\n",
    "- [go](action) to www.google.com\n",
    "- [go](action) to www.facebook.com\n",
    "- [go](action) to yahoo.com\n",
    "- [go](action) to www.ping.com\n",
    "- .com\n",
    "- .in\n",
    "- .org\n",
    "\"\"\"\n",
    "%store nlu_md > nlu.md"
   ]
  },
  {
   "cell_type": "code",
   "execution_count": 0,
   "metadata": {
    "colab": {},
    "colab_type": "code",
    "id": "bLTaS6wsNN8f"
   },
   "outputs": [],
   "source": []
  },
  {
   "cell_type": "code",
   "execution_count": 12,
   "metadata": {
    "colab": {
     "base_uri": "https://localhost:8080/",
     "height": 34
    },
    "colab_type": "code",
    "id": "D6zRfbTKX7uo",
    "outputId": "310c4de7-4bca-4ed4-e57d-3e87e5b70fb5"
   },
   "outputs": [
    {
     "name": "stdout",
     "output_type": "stream",
     "text": [
      "Writing 'nlu_config' (str) to file 'nlu_config.yml'.\n"
     ]
    }
   ],
   "source": [
    "nlu_config = \"\"\"\n",
    "language: en\n",
    "pipeline:\n",
    "- name: \"tokenizer_whitespace\"\n",
    "- name: \"ner_crf\"\n",
    "- name: \"ner_synonyms\"\n",
    "- name: \"intent_featurizer_count_vectors\"\n",
    "- name: \"intent_classifier_tensorflow_embedding\"\n",
    "  intent_tokenization_flag: true\n",
    "  intent_split_symbol: \"+\"\n",
    "  \"\"\"\n",
    "%store nlu_config > nlu_config.yml\n"
   ]
  },
  {
   "cell_type": "code",
   "execution_count": 28,
   "metadata": {
    "colab": {
     "base_uri": "https://localhost:8080/",
     "height": 462
    },
    "colab_type": "code",
    "id": "yCKyK2v4Zrq-",
    "outputId": "fdf3d3a2-d2d3-4abc-8ddf-30ea78a0aa76"
   },
   "outputs": [
    {
     "name": "stderr",
     "output_type": "stream",
     "text": [
      "C:\\Users\\jishn\\Anaconda3\\envs\\Jishnu_Rasa\\lib\\site-packages\\rasa_nlu\\extractors\\entity_synonyms.py:85: UserWarning: Failed to load synonyms file from './models/current/nlu\\entity_synonyms.json'\n",
      "  \"\".format(entity_synonyms_file))\n"
     ]
    },
    {
     "name": "stdout",
     "output_type": "stream",
     "text": [
      "INFO:tensorflow:Restoring parameters from ./models/current/nlu\\intent_classifier_tensorflow_embedding.ckpt\n",
      "{'intent': {'name': 'Navigation', 'confidence': 0.9634088277816772}, 'entities': [{'start': 0, 'end': 2, 'value': 'go', 'entity': 'action', 'confidence': 0.9553502430406006, 'extractor': 'ner_crf'}], 'intent_ranking': [{'name': 'Navigation', 'confidence': 0.9634088277816772}, {'name': 'Language', 'confidence': 0.00650305300951004}, {'name': 'button', 'confidence': 0.0}], 'text': 'go to google.com'}\n",
      "{\n",
      "  \"intent\": {\n",
      "    \"name\": \"Navigation\",\n",
      "    \"confidence\": 0.9634088277816772\n",
      "  },\n",
      "  \"entities\": [\n",
      "    {\n",
      "      \"start\": 0,\n",
      "      \"end\": 2,\n",
      "      \"value\": \"go\",\n",
      "      \"entity\": \"action\",\n",
      "      \"confidence\": 0.9553502430406006,\n",
      "      \"extractor\": \"ner_crf\"\n",
      "    }\n",
      "  ],\n",
      "  \"intent_ranking\": [\n",
      "    {\n",
      "      \"name\": \"Navigation\",\n",
      "      \"confidence\": 0.9634088277816772\n",
      "    },\n",
      "    {\n",
      "      \"name\": \"Language\",\n",
      "      \"confidence\": 0.00650305300951004\n",
      "    },\n",
      "    {\n",
      "      \"name\": \"button\",\n",
      "      \"confidence\": 0.0\n",
      "    }\n",
      "  ],\n",
      "  \"text\": \"go to google.com\"\n",
      "}\n"
     ]
    }
   ],
   "source": [
    "from rasa_nlu.model import Interpreter\n",
    "import json\n",
    "interpreter = Interpreter.load(\"./models/current/nlu\")\n",
    "message = \"go to google.com\"\n",
    "result = interpreter.parse(message)\n",
    "print(result)\n",
    "print(json.dumps(result, indent=2))\n"
   ]
  },
  {
   "cell_type": "code",
   "execution_count": 56,
   "metadata": {
    "colab": {
     "base_uri": "https://localhost:8080/",
     "height": 34
    },
    "colab_type": "code",
    "id": "ZbTbFOoyNZtB",
    "outputId": "4634825b-886f-4407-a83d-fdc47c8f82ac"
   },
   "outputs": [
    {
     "name": "stdout",
     "output_type": "stream",
     "text": [
      "['Go to', 'www.facebook.com/jish1398']\n",
      "['Go to www', 'facebook.com/jish1398']\n"
     ]
    }
   ],
   "source": []
  },
  {
   "cell_type": "code",
   "execution_count": 4,
   "metadata": {},
   "outputs": [],
   "source": []
  },
  {
   "cell_type": "code",
   "execution_count": 5,
   "metadata": {},
   "outputs": [
    {
     "name": "stderr",
     "output_type": "stream",
     "text": [
      "C:\\Users\\jishn\\Anaconda3\\envs\\Jishnu_Rasa\\lib\\site-packages\\h5py\\__init__.py:36: FutureWarning: Conversion of the second argument of issubdtype from `float` to `np.floating` is deprecated. In future, it will be treated as `np.float64 == np.dtype(float).type`.\n",
      "  from ._conv import register_converters as _register_converters\n",
      "C:\\Users\\jishn\\Anaconda3\\envs\\Jishnu_Rasa\\lib\\site-packages\\rasa_nlu\\extractors\\entity_synonyms.py:85: UserWarning: Failed to load synonyms file from './models/current/nlu\\entity_synonyms.json'\n",
      "  \"\".format(entity_synonyms_file))\n"
     ]
    },
    {
     "name": "stdout",
     "output_type": "stream",
     "text": [
      "INFO:tensorflow:Restoring parameters from ./models/current/nlu\\intent_classifier_tensorflow_embedding.ckpt\n",
      "{'intent': {'name': 'Navigation', 'confidence': 0.9772045016288757}, 'entities': [], 'intent_ranking': [{'name': 'Navigation', 'confidence': 0.9772045016288757}, {'name': 'Language', 'confidence': 0.0}, {'name': 'button', 'confidence': 0.0}], 'text': ' Go to www.facebook.com/jish1398'}\n"
     ]
    }
   ],
   "source": [
    "def interpreter(message):\n",
    "    interpreter = Interpreter.load(\"./models/current/nlu\")\n",
    "    result = interpreter.parse(message)\n",
    "    print(result)\n",
    "    return(result)"
   ]
  },
  {
   "cell_type": "code",
   "execution_count": 41,
   "metadata": {},
   "outputs": [
    {
     "name": "stdout",
     "output_type": "stream",
     "text": [
      "<class 'list'>\n",
      "google.com\n"
     ]
    }
   ],
   "source": [
    "#def Navigation_Link(result):\n",
    "    \n",
    "action=result['entities'][0]['value']\n",
    "\n",
    "if(action==\"go\" and len(result['entities'])==1):\n",
    "        \n",
    "    match = re.findall(r'[\\w.]+.[\\w.]+', result['text'])\n",
    "    print(match[1])\n",
    "    driver = webdriver.Chrome()\n",
    "    driver.get(\"\".join([\"http://\",match[1]]))        "
   ]
  },
  {
   "cell_type": "code",
   "execution_count": 46,
   "metadata": {},
   "outputs": [
    {
     "name": "stderr",
     "output_type": "stream",
     "text": [
      "C:\\Users\\jishn\\Anaconda3\\envs\\Jishnu_Rasa\\lib\\site-packages\\ipykernel_launcher.py:4: DeprecationWarning: use options instead of chrome_options\n",
      "  after removing the cwd from sys.path.\n"
     ]
    }
   ],
   "source": [
    "#def Change_Language(result):\n",
    "options = webdriver.ChromeOptions()\n",
    "options.add_argument('--lang=es')\n",
    "driver = webdriver.Chrome(chrome_options=options)\n",
    "driver.get(\"http://google.com\")"
   ]
  },
  {
   "cell_type": "code",
   "execution_count": null,
   "metadata": {},
   "outputs": [],
   "source": [
    "def Button():\n",
    "    "
   ]
  }
 ],
 "metadata": {
  "colab": {
   "collapsed_sections": [],
   "include_colab_link": true,
   "name": "nlu_intents.ipynb",
   "provenance": [],
   "version": "0.3.2"
  },
  "kernelspec": {
   "display_name": "Python 3",
   "language": "python",
   "name": "python3"
  },
  "language_info": {
   "codemirror_mode": {
    "name": "ipython",
    "version": 3
   },
   "file_extension": ".py",
   "mimetype": "text/x-python",
   "name": "python",
   "nbconvert_exporter": "python",
   "pygments_lexer": "ipython3",
   "version": "3.6.5"
  }
 },
 "nbformat": 4,
 "nbformat_minor": 1
}
