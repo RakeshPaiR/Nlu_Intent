{
 "cells": [
  {
   "cell_type": "markdown",
   "metadata": {
    "colab_type": "text",
    "id": "view-in-github"
   },
   "source": [
    "<a href=\"https://colab.research.google.com/github/jish1398/Nlu_Intent/blob/master/nlu_intents.ipynb\" target=\"_parent\"><img src=\"https://colab.research.google.com/assets/colab-badge.svg\" alt=\"Open In Colab\"/></a>"
   ]
  },
  {
   "cell_type": "markdown",
   "metadata": {
    "colab_type": "text",
    "id": "Sm1ICPwrc5MY"
   },
   "source": [
    "Create the database and try different "
   ]
  },
  {
   "cell_type": "code",
   "execution_count": 2,
   "metadata": {
    "colab": {
     "base_uri": "https://localhost:8080/",
     "height": 34
    },
    "colab_type": "code",
    "id": "EUtPafyuWrlc",
    "outputId": "77bee17d-5f5c-4569-b9f3-d708f6e5bf64"
   },
   "outputs": [
    {
     "name": "stdout",
     "output_type": "stream",
     "text": [
      "Writing 'nlu_md' (str) to file 'nlu.md'.\n"
     ]
    }
   ],
   "source": [
    "nlu_md = \"\"\"\n",
    "\n",
    "## intent:button\n",
    "- please click(Action) the [red](color) button\n",
    "- please click(OK) the [red](color) button\n",
    "- please click(OK) the [red](color) button\n",
    "\n",
    "- click button \n",
    "- click the [blue](color) button\n",
    "- click the [blue](color) colored button\n",
    "- click the [red](color) colored button\n",
    "- click the [black](color) button \n",
    "- click the [first](position) button\n",
    "- click the [third](position) [red](color) button\n",
    "- click the [second](position) button\n",
    "- press the [blue](color) button\n",
    "- Please go to(Action) the next page by clicking(Action) the [red](color) button\n",
    "- Press [red](color) button\n",
    "- Click [blue](color) button\n",
    "- Please click the [red](color) button\n",
    "- Click the [first](position) [blue](color) button\n",
    "- click the [first](position) [red](color) button\n",
    "- clicke the[first](position) [green](color) button\n",
    "- click the [second](position) [red](color) button\n",
    "- click the [second](position) [blue](color) button\n",
    "- click the [second](position) [green](color) button\n",
    "- click the [third](position)  [red](color) button\n",
    "- click the [fourth](position) [red](color) button\n",
    "- click the [third](position) [blue](color) button\n",
    "\n",
    "## lookup:Action   <!-- lookup table list -->\n",
    "- press\n",
    "- go to\n",
    "- click\n",
    "- clicking\n",
    "\n",
    "## intent: Language\n",
    "- change the language to [english](lang)\n",
    "- change the language to [spanish](lang)\n",
    "- change the language to [french](lang)   <!-- Try to add synonyms -->\n",
    "- change the language to [hindi](lang)\n",
    "- please change the language to [spanish](lang)\n",
    "- please change the language to [english](lang)\n",
    "- can you please the language to [english](lang)?\n",
    "- can you please the language to [hindi](lang)?\n",
    "- can you please the language to [french](lang)?\n",
    "- can you please the language to [spanish](lang)?\n",
    "- change language  <!-- Default Language is English -->\n",
    "\n",
    "\n",
    "## intent: Navigation\n",
    "- [go](action) [back](direction) \n",
    "- [go](action) [backward](direction) \n",
    "- [go](action) [forward](direction)\n",
    "- [go](action) to [previous](direction) website\n",
    "- [go](action) to [pr](direction) website\n",
    "\n",
    "- [open](action) [new](type) [tab](wintab) <-- Paramters from this will be the type,action,direction,wintab -->\n",
    "- [open](action) [new](type) [window](wintab) <!-- Default Language is New tab -->\n",
    "- can you please go forward?\n",
    "- can you please go back?\n",
    "- please go forward.\n",
    "- please open new tab\n",
    "- please open new window\n",
    "- please close the first tab\n",
    "- please close the second tab\n",
    "- please close the window\n",
    "- please open a window \n",
    "- please open a tab\n",
    "- go to [www.google.com](URL)\n",
    "- go to [www.facebook.com](URL)\n",
    "- go to [yahoo.com](URL)\n",
    "- go to [www.ping.com](URL)\n",
    "- .com\n",
    "- .in\n",
    "- .org\n",
    "\"\"\"\n",
    "%store nlu_md > nlu.md"
   ]
  },
  {
   "cell_type": "code",
   "execution_count": 0,
   "metadata": {
    "colab": {},
    "colab_type": "code",
    "id": "bLTaS6wsNN8f"
   },
   "outputs": [],
   "source": []
  },
  {
   "cell_type": "code",
   "execution_count": 3,
   "metadata": {
    "colab": {
     "base_uri": "https://localhost:8080/",
     "height": 34
    },
    "colab_type": "code",
    "id": "D6zRfbTKX7uo",
    "outputId": "310c4de7-4bca-4ed4-e57d-3e87e5b70fb5"
   },
   "outputs": [
    {
     "name": "stdout",
     "output_type": "stream",
     "text": [
      "Writing 'nlu_config' (str) to file 'nlu_config.yml'.\n"
     ]
    }
   ],
   "source": [
    "nlu_config = \"\"\"\n",
    "language: en\n",
    "pipeline:\n",
    "- name: \"tokenizer_whitespace\"\n",
    "- name: \"ner_crf\"\n",
    "- name: \"ner_synonyms\"\n",
    "- name: \"intent_featurizer_count_vectors\"\n",
    "- name: \"intent_classifier_tensorflow_embedding\"\n",
    "  intent_tokenization_flag: true\n",
    "  intent_split_symbol: \"+\"\n",
    "  \"\"\"\n",
    "%store nlu_config > nlu_config.yml\n"
   ]
  },
  {
   "cell_type": "code",
   "execution_count": 4,
   "metadata": {
    "colab": {
     "base_uri": "https://localhost:8080/",
     "height": 428
    },
    "colab_type": "code",
    "id": "rl_dCP2XZidy",
    "outputId": "02cd5e36-20c1-467e-9993-7905dc22e5d1"
   },
   "outputs": [
    {
     "name": "stdout",
     "output_type": "stream",
     "text": [
      "2018-11-21 02:50:35 \u001b[1;30mINFO    \u001b[0m \u001b[34mrasa_nlu.training_data.loading\u001b[0m  - Training data format of nlu.md is md\n",
      "2018-11-21 02:50:35 \u001b[1;30mINFO    \u001b[0m \u001b[34mrasa_nlu.training_data.training_data\u001b[0m  - Training data stats: \n",
      "\t- intent examples: 60 (3 distinct intents)\n",
      "\t- Found intents: 'button', 'Language', 'Navigation'\n",
      "\t- entity examples: 45 (8 distinct entities)\n",
      "\t- found entities: 'action', 'lang', 'direction', 'position', 'color', 'wintab', 'URL', 'type'\n",
      "\n",
      "2018-11-21 02:50:35 \u001b[1;30mINFO    \u001b[0m \u001b[34mrasa_nlu.model\u001b[0m  - Starting to train component tokenizer_whitespace\n",
      "2018-11-21 02:50:35 \u001b[1;30mINFO    \u001b[0m \u001b[34mrasa_nlu.model\u001b[0m  - Finished training component.\n",
      "2018-11-21 02:50:35 \u001b[1;30mINFO    \u001b[0m \u001b[34mrasa_nlu.model\u001b[0m  - Starting to train component ner_crf\n",
      "2018-11-21 02:50:35 \u001b[1;30mWARNING \u001b[0m \u001b[34mrasa_nlu.extractors.crf_entity_extractor\u001b[0m  - \u001b[33mMisaligned entity annotation in sentence 'clicke thefirst green button'. Make sure the start and end values of the annotated training examples end at token boundaries (e.g. don't include trailing whitespaces or punctuation).\u001b[0m\n",
      "2018-11-21 02:50:35 \u001b[1;30mINFO    \u001b[0m \u001b[34mrasa_nlu.model\u001b[0m  - Finished training component.\n",
      "2018-11-21 02:50:35 \u001b[1;30mINFO    \u001b[0m \u001b[34mrasa_nlu.model\u001b[0m  - Starting to train component ner_synonyms\n",
      "2018-11-21 02:50:35 \u001b[1;30mINFO    \u001b[0m \u001b[34mrasa_nlu.model\u001b[0m  - Finished training component.\n",
      "2018-11-21 02:50:35 \u001b[1;30mINFO    \u001b[0m \u001b[34mrasa_nlu.model\u001b[0m  - Starting to train component intent_featurizer_count_vectors\n",
      "2018-11-21 02:50:35 \u001b[1;30mINFO    \u001b[0m \u001b[34mrasa_nlu.model\u001b[0m  - Finished training component.\n",
      "2018-11-21 02:50:35 \u001b[1;30mINFO    \u001b[0m \u001b[34mrasa_nlu.model\u001b[0m  - Starting to train component intent_classifier_tensorflow_embedding\n",
      "2018-11-21 02:50:43 \u001b[1;30mINFO    \u001b[0m \u001b[34mrasa_nlu.classifiers.embedding_intent_classifier\u001b[0m  - Accuracy is updated every 10 epochs\n",
      "Epochs: 100% 300/300 [00:01<00:00, 161.50it/s, loss=0.061, acc=1.000]\n",
      "2018-11-21 02:50:44 \u001b[1;30mINFO    \u001b[0m \u001b[34mrasa_nlu.classifiers.embedding_intent_classifier\u001b[0m  - Finished training embedding policy, loss=0.061, train accuracy=1.000\n",
      "2018-11-21 02:50:44 \u001b[1;30mINFO    \u001b[0m \u001b[34mrasa_nlu.model\u001b[0m  - Finished training component.\n",
      "2018-11-21 02:50:45 \u001b[1;30mINFO    \u001b[0m \u001b[34mrasa_nlu.model\u001b[0m  - Successfully saved model into '/content/models/current/nlu'\n",
      "2018-11-21 02:50:45 \u001b[1;30mINFO    \u001b[0m \u001b[34m__main__\u001b[0m  - Finished training\n"
     ]
    }
   ],
   "source": [
    "!python -m rasa_nlu.train -c nlu_config.yml --data nlu.md -o models --fixed_model_name nlu --project current --verbose"
   ]
  },
  {
   "cell_type": "code",
   "execution_count": 6,
   "metadata": {
    "colab": {
     "base_uri": "https://localhost:8080/",
     "height": 462
    },
    "colab_type": "code",
    "id": "yCKyK2v4Zrq-",
    "outputId": "fdf3d3a2-d2d3-4abc-8ddf-30ea78a0aa76"
   },
   "outputs": [
    {
     "name": "stdout",
     "output_type": "stream",
     "text": [
      "INFO:tensorflow:Restoring parameters from ./models/current/nlu/intent_classifier_tensorflow_embedding.ckpt\n"
     ]
    },
    {
     "name": "stderr",
     "output_type": "stream",
     "text": [
      "/usr/local/lib/python3.6/dist-packages/rasa_nlu/extractors/entity_synonyms.py:85: UserWarning: Failed to load synonyms file from './models/current/nlu/entity_synonyms.json'\n",
      "  \"\".format(entity_synonyms_file))\n"
     ]
    },
    {
     "name": "stdout",
     "output_type": "stream",
     "text": [
      "{\n",
      "  \"intent\": {\n",
      "    \"name\": \"Navigation\",\n",
      "    \"confidence\": 0.9392175078392029\n",
      "  },\n",
      "  \"entities\": [],\n",
      "  \"intent_ranking\": [\n",
      "    {\n",
      "      \"name\": \"Navigation\",\n",
      "      \"confidence\": 0.9392175078392029\n",
      "    },\n",
      "    {\n",
      "      \"name\": \"Language\",\n",
      "      \"confidence\": 0.028055340051651\n",
      "    },\n",
      "    {\n",
      "      \"name\": \"button\",\n",
      "      \"confidence\": 0.0\n",
      "    }\n",
      "  ],\n",
      "  \"text\": \" mec.ac.in\"\n",
      "}\n"
     ]
    }
   ],
   "source": [
    "from rasa_nlu.model import Interpreter\n",
    "import json\n",
    "interpreter = Interpreter.load(\"./models/current/nlu\")\n",
    "message = \" mec.ac.in\"\n",
    "result = interpreter.parse(message)\n",
    "print(json.dumps(result, indent=2))"
   ]
  },
  {
   "cell_type": "code",
   "execution_count": 31,
   "metadata": {
    "colab": {
     "base_uri": "https://localhost:8080/",
     "height": 34
    },
    "colab_type": "code",
    "id": "ZbTbFOoyNZtB",
    "outputId": "4634825b-886f-4407-a83d-fdc47c8f82ac"
   },
   "outputs": [
    {
     "name": "stdout",
     "output_type": "stream",
     "text": [
      "[('', '', 'com')]\n"
     ]
    }
   ],
   "source": [
    "import re\n",
    "urls = re.findall('^(http:\\/\\/)?(www\\.)?\\w*\\.(com|net|org|in|info|tv)$',\"google.com\" )\n",
    "print(urls)"
   ]
  },
  {
   "cell_type": "code",
   "execution_count": null,
   "metadata": {},
   "outputs": [],
   "source": [
    "from selenium import webdriver\n",
    "import time\n",
    "driver = webdriver.Chrome()\n",
    "\n",
    "driver.get(\"http://www.python.org\")\n",
    "while(1):\n",
    "    time.sleep(3)\n",
    "\n",
    "driver.close()"
   ]
  },
  {
   "cell_type": "code",
   "execution_count": null,
   "metadata": {},
   "outputs": [],
   "source": [
    "def Navigation():\n",
    "    "
   ]
  },
  {
   "cell_type": "code",
   "execution_count": null,
   "metadata": {},
   "outputs": [],
   "source": [
    "def Change_Language():\n",
    "    "
   ]
  },
  {
   "cell_type": "code",
   "execution_count": null,
   "metadata": {},
   "outputs": [],
   "source": [
    "def Button():\n",
    "    "
   ]
  }
 ],
 "metadata": {
  "colab": {
   "collapsed_sections": [],
   "include_colab_link": true,
   "name": "nlu_intents.ipynb",
   "provenance": [],
   "version": "0.3.2"
  },
  "kernelspec": {
   "display_name": "Python 3",
   "language": "python",
   "name": "python3"
  },
  "language_info": {
   "codemirror_mode": {
    "name": "ipython",
    "version": 3
   },
   "file_extension": ".py",
   "mimetype": "text/x-python",
   "name": "python",
   "nbconvert_exporter": "python",
   "pygments_lexer": "ipython3",
   "version": "3.6.5"
  }
 },
 "nbformat": 4,
 "nbformat_minor": 1
}
